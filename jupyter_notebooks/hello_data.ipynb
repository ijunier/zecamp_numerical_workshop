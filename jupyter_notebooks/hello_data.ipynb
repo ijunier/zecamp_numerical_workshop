{
 "cells": [
  {
   "cell_type": "code",
   "execution_count": 3,
   "metadata": {},
   "outputs": [
    {
     "name": "stdout",
     "output_type": "stream",
     "text": [
      "Hello data!\n",
      "\u001b[34mGCF_000269645.1_PB_Esch_coli_MG12655_V1\u001b[m\u001b[m\n",
      "\u001b[34mGCF_000273425.1_Esch_coli_MG12655_V1\u001b[m\u001b[m\n",
      "\u001b[34mGCF_000981485.1_EcoliK12AG100\u001b[m\u001b[m\n",
      "\u001b[34mGCF_003586045.1_E.coli_isolate\u001b[m\u001b[m\n",
      "\u001b[34mGCF_041870075.1_Escherichia_coli_M2021-10044802_2_E\u001b[m\u001b[m\n",
      "\u001b[34mGCF_042259155.1_RUNB_Ecoli_1\u001b[m\u001b[m\n",
      "\u001b[34mGCF_900096795.1_Ecoli_AG100_Sample3_Doxycycline_Assembly\u001b[m\u001b[m\n",
      "\u001b[34mGCF_900096845.1_Ecoli_AG100_Sample3_M9_Assembly\u001b[m\u001b[m\n",
      "\u001b[34mGCF_900166955.1_E._coli_KV7\u001b[m\u001b[m\n",
      "\u001b[34mGCF_900618295.1_ecoli019\u001b[m\u001b[m\n",
      "\u001b[34mGCF_901733115.1_Escherichia_coli_MAD\u001b[m\u001b[m\n"
     ]
    }
   ],
   "source": [
    "print('Hello data!')\n",
    "!ls ../data"
   ]
  },
  {
   "cell_type": "code",
   "execution_count": null,
   "metadata": {},
   "outputs": [],
   "source": []
  }
 ],
 "metadata": {
  "kernelspec": {
   "display_name": "Python 3",
   "language": "python",
   "name": "python3"
  },
  "language_info": {
   "codemirror_mode": {
    "name": "ipython",
    "version": 3
   },
   "file_extension": ".py",
   "mimetype": "text/x-python",
   "name": "python",
   "nbconvert_exporter": "python",
   "pygments_lexer": "ipython3",
   "version": "3.8.20"
  }
 },
 "nbformat": 4,
 "nbformat_minor": 2
}
