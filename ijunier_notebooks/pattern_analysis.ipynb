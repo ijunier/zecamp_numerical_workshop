{
 "cells": [
  {
   "cell_type": "code",
   "execution_count": 1,
   "metadata": {},
   "outputs": [],
   "source": [
    "import os, sys\n",
    "from pathlib import Path\n",
    "\n",
    "\n",
    "import numpy as np\n",
    "from Bio import SeqIO\n",
    "from Bio.Seq import Seq\n",
    "\n",
    "import itertools"
   ]
  },
  {
   "cell_type": "code",
   "execution_count": 2,
   "metadata": {},
   "outputs": [],
   "source": [
    "from matplotlib import pyplot as plt"
   ]
  },
  {
   "cell_type": "code",
   "execution_count": 3,
   "metadata": {},
   "outputs": [
    {
     "name": "stdout",
     "output_type": "stream",
     "text": [
      "/opt/local/bin/python3.8\n"
     ]
    }
   ],
   "source": [
    "print(sys.executable)"
   ]
  },
  {
   "cell_type": "markdown",
   "metadata": {},
   "source": [
    "## Handling files"
   ]
  },
  {
   "cell_type": "code",
   "execution_count": 4,
   "metadata": {},
   "outputs": [
    {
     "data": {
      "text/plain": [
       "'/Users/ivan/Library/CloudStorage/Dropbox/z_olimpics/fall_school_2025/zecamp_numerical_workshop/ijunier_notebooks'"
      ]
     },
     "execution_count": 4,
     "metadata": {},
     "output_type": "execute_result"
    }
   ],
   "source": [
    "os.getcwd()"
   ]
  },
  {
   "cell_type": "code",
   "execution_count": 5,
   "metadata": {},
   "outputs": [],
   "source": [
    "data_root = Path('../data/')"
   ]
  },
  {
   "cell_type": "code",
   "execution_count": 6,
   "metadata": {},
   "outputs": [
    {
     "name": "stdout",
     "output_type": "stream",
     "text": [
      "../data/GCF_003586045.1_E.coli_isolate/GCF_003586045.1_E.coli_isolate_genomic.fna\n",
      "../data/GCF_900618295.1_ecoli019/GCF_900618295.1_ecoli019_genomic.fna\n",
      "../data/GCF_041870075.1_Escherichia_coli_M2021-10044802_2_E/GCF_041870075.1_Escherichia_coli_M2021-10044802_2_E_genomic.fna\n",
      "../data/GCF_901733115.1_Escherichia_coli_MAD/GCF_901733115.1_Escherichia_coli_MAD_genomic.fna\n",
      "../data/GCF_000981485.1_EcoliK12AG100/GCF_000981485.1_EcoliK12AG100_genomic.fna\n",
      "../data/GCF_000273425.1_Esch_coli_MG12655_V1/GCF_000273425.1_Esch_coli_MG12655_V1_genomic.fna\n",
      "../data/GCF_000269645.1_PB_Esch_coli_MG12655_V1/GCF_000269645.1_PB_Esch_coli_MG12655_V1_genomic.fna\n",
      "../data/GCF_900166955.1_E._coli_KV7/GCF_900166955.1_E._coli_KV7_genomic.fna\n",
      "../data/GCF_900096795.1_Ecoli_AG100_Sample3_Doxycycline_Assembly/GCF_900096795.1_Ecoli_AG100_Sample3_Doxycycline_Assembly_genomic.fna\n",
      "../data/GCF_900096845.1_Ecoli_AG100_Sample3_M9_Assembly/GCF_900096845.1_Ecoli_AG100_Sample3_M9_Assembly_genomic.fna\n",
      "../data/GCF_042259155.1_RUNB_Ecoli_1/GCF_042259155.1_RUNB_Ecoli_1_genomic.fna\n"
     ]
    }
   ],
   "source": [
    "for fasta_file in data_root.rglob('*.fna'):\n",
    "    print(fasta_file)"
   ]
  },
  {
   "cell_type": "code",
   "execution_count": 7,
   "metadata": {},
   "outputs": [],
   "source": [
    "fasta_files=[fasta_file for fasta_file in data_root.rglob('*.fna')]"
   ]
  },
  {
   "cell_type": "code",
   "execution_count": 8,
   "metadata": {},
   "outputs": [
    {
     "name": "stdout",
     "output_type": "stream",
     "text": [
      "Sequence id: NZ_CP019953.1, which is 5108794 bp long\n",
      "Sequence id: NZ_LR130532.1, which is 5009390 bp long\n",
      "Sequence id: NZ_CP163451.1, which is 5229313 bp long\n",
      "Sequence id: NZ_LR595691.1, which is 4747851 bp long\n",
      "Sequence id: NZ_LN832404.1, which is 4638126 bp long\n",
      "Sequence id: NZ_AKVX01000001.1, which is 4638970 bp long\n",
      "Sequence id: NZ_AKBV01000001.1, which is 4638970 bp long\n",
      "Sequence id: NZ_LT795502.1, which is 4997480 bp long\n",
      "Sequence id: NZ_LT615378.1, which is 4638126 bp long\n",
      "Sequence id: NZ_LT615377.1, which is 4638126 bp long\n",
      "Sequence id: NZ_CP170128.1, which is 4606468 bp long\n"
     ]
    }
   ],
   "source": [
    "genome_sequences=[]\n",
    "idgenome2seq={}\n",
    "for file in fasta_files:\n",
    "    record = next(SeqIO.parse(file, 'fasta'))\n",
    "    print('Sequence id: '+record.id+', which is %d bp long'%len(record.seq))    \n",
    "    genome_sequences.append(record.seq)\n",
    "    idgenome2seq[record.id]=record.seq"
   ]
  },
  {
   "cell_type": "code",
   "execution_count": 9,
   "metadata": {},
   "outputs": [
    {
     "name": "stdout",
     "output_type": "stream",
     "text": [
      "11 genomes\n"
     ]
    }
   ],
   "source": [
    "print('%d genomes'%len(genome_sequences))"
   ]
  },
  {
   "cell_type": "code",
   "execution_count": 10,
   "metadata": {},
   "outputs": [],
   "source": [
    "# useful list\n",
    "alphabet=['A', 'T', 'G', 'C']"
   ]
  },
  {
   "cell_type": "markdown",
   "metadata": {},
   "source": [
    "## GC content (the simplest pattern analysis one can think of)"
   ]
  },
  {
   "cell_type": "markdown",
   "metadata": {},
   "source": [
    "#### Second parity (empirical) rule, discovered by Erwin Chargaff \n",
    "\n",
    "The percentages of complementary bases are roughly equal: A $\\simeq$ T and G $\\simeq$ C, even though each strand individually is single-stranded."
   ]
  },
  {
   "cell_type": "code",
   "execution_count": 11,
   "metadata": {},
   "outputs": [
    {
     "name": "stdout",
     "output_type": "stream",
     "text": [
      "A boolen vector:  [False  True False ... False False False]\n",
      "for which we compute the mean:  0.25272794322887165\n"
     ]
    }
   ],
   "source": [
    "# A concise way of computing the number of 'G' in a given sequence\n",
    "# using numpy arrays (very powerful)\n",
    "print('A boolen vector: ', np.array(genome_sequences[0]) == 'G')\n",
    "print('for which we compute the mean: ', np.mean(np.array(genome_sequences[0]) == 'G'))\n"
   ]
  },
  {
   "cell_type": "code",
   "execution_count": 12,
   "metadata": {},
   "outputs": [
    {
     "name": "stdout",
     "output_type": "stream",
     "text": [
      "id_genomes\tA\tT\tG\tC\tGC\n",
      "NZ_CP019953.1\t0.247\t0.247\t0.253\t0.254\t0.506\n",
      "NZ_LR130532.1\t0.246\t0.246\t0.254\t0.255\t0.509\n",
      "NZ_CP163451.1\t0.247\t0.247\t0.253\t0.253\t0.506\n",
      "NZ_LR595691.1\t0.247\t0.247\t0.253\t0.254\t0.506\n",
      "NZ_LN832404.1\t0.246\t0.246\t0.254\t0.254\t0.508\n",
      "NZ_AKVX01000001.1\t0.246\t0.246\t0.254\t0.254\t0.508\n",
      "NZ_AKBV01000001.1\t0.246\t0.246\t0.254\t0.254\t0.508\n",
      "NZ_LT795502.1\t0.246\t0.246\t0.254\t0.253\t0.507\n",
      "NZ_LT615378.1\t0.246\t0.246\t0.254\t0.254\t0.508\n",
      "NZ_LT615377.1\t0.246\t0.246\t0.254\t0.254\t0.508\n",
      "NZ_CP170128.1\t0.245\t0.245\t0.254\t0.255\t0.510\n"
     ]
    }
   ],
   "source": [
    "print('id_genomes', 'A', 'T', 'G', 'C', 'GC', sep='\\t')\n",
    "for id, seq in idgenome2seq.items():\n",
    "    \n",
    "    content={letter:np.mean(np.array(seq) == letter)\n",
    "             for letter in ['A','T','G','C']}\n",
    "    print(id,\n",
    "          '%.3f'%content['A'], '%.3f'%content['T'],\n",
    "          '%.3f'%content['G'], '%.3f'%content['C'],\n",
    "          '%.3f'%(content['G']+content['C']), sep='\\t')\n",
    "    "
   ]
  },
  {
   "cell_type": "markdown",
   "metadata": {},
   "source": [
    "#### Starting to build patern frequencies"
   ]
  },
  {
   "cell_type": "code",
   "execution_count": 13,
   "metadata": {},
   "outputs": [],
   "source": [
    "frequencies=dict()"
   ]
  },
  {
   "cell_type": "code",
   "execution_count": 14,
   "metadata": {},
   "outputs": [],
   "source": [
    "for letter in alphabet:\n",
    "    frequencies[letter]=np.mean(np.array(seq) == letter)"
   ]
  },
  {
   "cell_type": "markdown",
   "metadata": {},
   "source": [
    "## Doublet statistics\n",
    "\n",
    "- GC content is a singlet statistics.\n",
    "- 'AT' is an example of doublet.\n",
    "- There are $4^2=16$ possible doublets."
   ]
  },
  {
   "cell_type": "markdown",
   "metadata": {},
   "source": [
    "Analysis of a single doublet"
   ]
  },
  {
   "cell_type": "code",
   "execution_count": 15,
   "metadata": {},
   "outputs": [
    {
     "name": "stdout",
     "output_type": "stream",
     "text": [
      "AT frequency:  0.0669422438807452\n"
     ]
    }
   ],
   "source": [
    "doublet='AT'\n",
    "\n",
    "seq = np.array(genome_sequences[0])\n",
    "t_doublet=(seq[:-2] == doublet[0]) & (seq[1:-1] == doublet[1])\n",
    "\n",
    "print('%s frequency: '%doublet, np.mean(t_doublet))"
   ]
  },
  {
   "cell_type": "markdown",
   "metadata": {},
   "source": [
    "Iterating over all possible doublets"
   ]
  },
  {
   "cell_type": "code",
   "execution_count": 16,
   "metadata": {},
   "outputs": [
    {
     "name": "stdout",
     "output_type": "stream",
     "text": [
      "Frequencies\n",
      "AA: 0.0729\n",
      "AT: 0.0669\n",
      "AG: 0.0514\n",
      "AC: 0.0555\n",
      "TA: 0.0460\n",
      "TT: 0.0733\n",
      "TG: 0.0696\n",
      "TC: 0.0579\n",
      "GA: 0.0577\n",
      "GT: 0.0552\n",
      "GG: 0.0584\n",
      "GC: 0.0814\n",
      "CA: 0.0702\n",
      "CT: 0.0513\n",
      "CG: 0.0734\n",
      "CC: 0.0589\n"
     ]
    }
   ],
   "source": [
    "seq = np.array(genome_sequences[0])\n",
    "\n",
    "print('Frequencies')\n",
    "for it in itertools.product(alphabet, repeat=2):\n",
    "    doublet=''.join(it)    \n",
    "    t_doublet=(seq[:-2] == doublet[0]) & (seq[1:-1] == doublet[1])\n",
    "    frequencies[doublet]=np.mean(t_doublet)\n",
    "    print('%s: %.4f'%(doublet,frequencies[doublet]))\n",
    "    "
   ]
  },
  {
   "cell_type": "markdown",
   "metadata": {},
   "source": [
    "Are these results expected?"
   ]
  },
  {
   "cell_type": "code",
   "execution_count": 17,
   "metadata": {},
   "outputs": [
    {
     "name": "stdout",
     "output_type": "stream",
     "text": [
      "Occurrences\n",
      "measured\texpected\tratio\n",
      "AA: 372255\t307712 ± 554\t1.21\n",
      "AT: 341994\t307157 ± 554\t1.11\n",
      "AG: 262613\t318748 ± 564\t0.82\n",
      "AC: 283626\t320190 ± 565\t0.89\n",
      "TA: 234987\t307157 ± 554\t0.77\n",
      "TT: 374541\t306604 ± 553\t1.22\n",
      "TG: 355341\t318174 ± 564\t1.12\n",
      "TC: 295984\t319613 ± 565\t0.93\n",
      "GA: 294572\t318748 ± 564\t0.92\n",
      "GT: 282202\t318174 ± 564\t0.89\n",
      "GG: 298338\t330181 ± 574\t0.90\n",
      "GC: 416023\t331674 ± 575\t1.25\n",
      "CA: 358673\t320190 ± 565\t1.12\n",
      "CT: 262117\t319613 ± 565\t0.82\n",
      "CG: 374843\t331674 ± 575\t1.13\n",
      "CC: 300683\t333174 ± 577\t0.90\n"
     ]
    }
   ],
   "source": [
    "seq = np.array(genome_sequences[0])\n",
    "\n",
    "print('Occurrences')\n",
    "print('measured\\texpected\\tratio')\n",
    "for it in itertools.product(alphabet, repeat=2):\n",
    "    doublet=''.join(it)    \n",
    "    t_doublet=(seq[:-2] == doublet[0]) & (seq[1:-1] == doublet[1])\n",
    "    occ=np.sum(t_doublet)\n",
    "    print('%s: %d'%(doublet,occ),end='\\t')\n",
    "\n",
    "    # expected: Poisson process\n",
    "    la=len(seq)*frequencies[doublet[0]]*frequencies[doublet[1]] \n",
    "    print('%d \\u00B1 %d'%(la, np.sqrt(la)),end='\\t')\n",
    "\n",
    "    # ratio measured / expected\n",
    "    print('%.2f'%(occ/la))\n",
    "\n",
    "\n",
    "    \n",
    "    "
   ]
  },
  {
   "cell_type": "markdown",
   "metadata": {},
   "source": [
    "Checking the validity of the analysis by reshuffling the genome sequence"
   ]
  },
  {
   "cell_type": "code",
   "execution_count": 18,
   "metadata": {},
   "outputs": [
    {
     "name": "stdout",
     "output_type": "stream",
     "text": [
      "Occurrences\n",
      "measured\texpected\tratio\n",
      "AA: 310972\t307712 ± 554\t1.01\n",
      "AT: 310220\t307157 ± 554\t1.01\n",
      "AG: 319164\t318748 ± 564\t1.00\n",
      "AC: 320132\t320190 ± 565\t1.00\n",
      "TA: 310962\t307157 ± 554\t1.01\n",
      "TT: 311008\t306604 ± 553\t1.01\n",
      "TG: 319432\t318174 ± 564\t1.00\n",
      "TC: 319451\t319613 ± 565\t1.00\n",
      "GA: 318751\t318748 ± 564\t1.00\n",
      "GT: 319060\t318174 ± 564\t1.00\n",
      "GG: 325807\t330181 ± 574\t0.99\n",
      "GC: 327516\t331674 ± 575\t0.99\n",
      "CA: 319802\t320190 ± 565\t1.00\n",
      "CT: 320566\t319613 ± 565\t1.00\n",
      "CG: 326731\t331674 ± 575\t0.99\n",
      "CC: 329218\t333174 ± 577\t0.99\n"
     ]
    }
   ],
   "source": [
    "random_seq = np.random.permutation(seq) # this keeps the alphabet content identical\n",
    "\n",
    "print('Occurrences')\n",
    "print('measured\\texpected\\tratio')\n",
    "for it in itertools.product(alphabet, repeat=2):\n",
    "    doublet=''.join(it)    \n",
    "    t_doublet=(random_seq[:-2] == doublet[0]) & (random_seq[1:-1] == doublet[1])\n",
    "    occ=np.sum(t_doublet)\n",
    "    print('%s: %d'%(doublet,occ),end='\\t')\n",
    "\n",
    "    # expected: Poisson process\n",
    "    la=len(seq)*frequencies[doublet[0]]*frequencies[doublet[1]] \n",
    "    print('%d \\u00B1 %d'%(la, np.sqrt(la)),end='\\t')\n",
    "\n",
    "    # ratio measured / expected\n",
    "    print('%.2f'%(occ/la))\n",
    "\n"
   ]
  },
  {
   "cell_type": "markdown",
   "metadata": {},
   "source": [
    "Conclusion: genomes are not random sequences"
   ]
  },
  {
   "cell_type": "markdown",
   "metadata": {},
   "source": [
    "## 3-uplets statistics\n",
    "\n",
    "- There are $4^3=64$ possible triplets."
   ]
  },
  {
   "cell_type": "markdown",
   "metadata": {},
   "source": [
    "### Objective: sort the 3-uplets according to their ratio occurrence."
   ]
  },
  {
   "cell_type": "code",
   "execution_count": 19,
   "metadata": {},
   "outputs": [],
   "source": [
    "uplet_occurencies=dict()\n",
    "uplet_ratios=dict()"
   ]
  },
  {
   "cell_type": "code",
   "execution_count": 20,
   "metadata": {},
   "outputs": [],
   "source": [
    "seq = np.array(genome_sequences[0])\n",
    "\n",
    "for it in itertools.product(alphabet, repeat=3):\n",
    "    uplet=''.join(it)\n",
    "    t_uplet=(seq[:-2] == uplet[0]) & (seq[1:-1] == uplet[1]) & (seq[2:] == uplet[2])\n",
    "    uplet_occurencies[uplet]=np.sum(t_uplet)\n",
    "\n",
    "    frequencies[uplet]=np.mean(t_uplet)\n",
    "\n",
    "\n",
    "    freq_random=frequencies[uplet[:2]]*frequencies[uplet[2]]\n",
    "    uplet_ratios[uplet]=uplet_occurencies[uplet]/(freq_random*len(seq))\n",
    "\n",
    "    "
   ]
  },
  {
   "cell_type": "code",
   "execution_count": 21,
   "metadata": {},
   "outputs": [],
   "source": [
    "ratio_sorted_3uplets=sorted(uplet_occurencies.keys(), key=lambda uplet: uplet_ratios[uplet])"
   ]
  },
  {
   "cell_type": "code",
   "execution_count": 22,
   "metadata": {},
   "outputs": [
    {
     "name": "stdout",
     "output_type": "stream",
     "text": [
      "['CTA', 'TAG', 'GAG', 'CCC', 'GGG', 'CTC', 'AAG', 'TGT', 'CCT', 'ACT', 'GAC', 'CAC', 'CGA', 'TTA', 'GTC', 'TCC', 'AGG', 'GTA', 'ATA', 'TCT', 'AGT', 'GCT', 'GGA', 'CGT', 'TTG', 'CAA', 'ACA', 'AAC', 'GCC', 'ATG', 'CAT', 'AGA', 'TAC', 'TTC', 'CGG', 'AAT', 'GTG', 'TCG', 'GCA', 'TGG', 'TGA', 'ATC', 'CTT', 'ATT', 'ACG', 'GGT', 'ACC', 'TGC', 'GCG', 'TAT', 'CCG', 'CAG', 'CCA', 'GAA', 'TCA', 'CGC', 'GAT', 'GTT', 'GGC', 'AGC', 'AAA', 'TAA', 'TTT', 'CTG']\n",
      "[Seq('TAG'), Seq('CTA'), Seq('CTC'), Seq('GGG'), Seq('CCC'), Seq('GAG'), Seq('CTT'), Seq('ACA'), Seq('AGG'), Seq('AGT'), Seq('GTC'), Seq('GTG'), Seq('TCG'), Seq('TAA'), Seq('GAC'), Seq('GGA'), Seq('CCT'), Seq('TAC'), Seq('TAT'), Seq('AGA'), Seq('ACT'), Seq('AGC'), Seq('TCC'), Seq('ACG'), Seq('CAA'), Seq('TTG'), Seq('TGT'), Seq('GTT'), Seq('GGC'), Seq('CAT'), Seq('ATG'), Seq('TCT'), Seq('GTA'), Seq('GAA'), Seq('CCG'), Seq('ATT'), Seq('CAC'), Seq('CGA'), Seq('TGC'), Seq('CCA'), Seq('TCA'), Seq('GAT'), Seq('AAG'), Seq('AAT'), Seq('CGT'), Seq('ACC'), Seq('GGT'), Seq('GCA'), Seq('CGC'), Seq('ATA'), Seq('CGG'), Seq('CTG'), Seq('TGG'), Seq('TTC'), Seq('TGA'), Seq('GCG'), Seq('ATC'), Seq('AAC'), Seq('GCC'), Seq('GCT'), Seq('TTT'), Seq('TTA'), Seq('AAA'), Seq('CAG')]\n"
     ]
    }
   ],
   "source": [
    "print(ratio_sorted_3uplets)\n",
    "print([Seq(u).reverse_complement() for u in ratio_sorted_3uplets])"
   ]
  },
  {
   "cell_type": "markdown",
   "metadata": {},
   "source": [
    "### Some info:\n",
    "- 'TAG' is a stop codon"
   ]
  },
  {
   "cell_type": "markdown",
   "metadata": {},
   "source": [
    "## 4-uplets statistics\n",
    "\n",
    "- There are $4^4    =256$ possible triplets."
   ]
  },
  {
   "cell_type": "code",
   "execution_count": 23,
   "metadata": {},
   "outputs": [],
   "source": [
    "seq = np.array(genome_sequences[0])\n",
    "\n",
    "uplet_length=4\n",
    "\n",
    "uplet_occurencies=dict()\n",
    "for it in itertools.product(alphabet, repeat=uplet_length):\n",
    "    uplet=''.join(it)\n",
    "\n",
    "    t_uplet=(seq[:-(uplet_length-1)] == uplet[0])\n",
    "    for i in range(1,uplet_length):\n",
    "        if i < (uplet_length-1):\n",
    "            t_uplet&=(seq[i:-(uplet_length-1)+i] == uplet[i])\n",
    "        else:\n",
    "            t_uplet&=(seq[i:] == uplet[i])\n",
    "\n",
    "    uplet_occurencies[uplet]=np.sum(t_uplet)\n",
    "    freq_random=frequencies[uplet[:2]]*frequencies[uplet[2:]]\n",
    "    uplet_ratios[uplet]=uplet_occurencies[uplet]/(freq_random*len(seq))"
   ]
  },
  {
   "cell_type": "code",
   "execution_count": 24,
   "metadata": {},
   "outputs": [
    {
     "name": "stdout",
     "output_type": "stream",
     "text": [
      "['CTAG', 'CCTA', 'TAGG', 'TTAG', 'CTAA', 'TCTA', 'TAGA', 'GAGG', 'CCTC', 'ACTA', 'TAGT', 'CGAG', 'CAAG', 'GTCC', 'CCCC', 'GGAC', 'GGGG', 'CTTG', 'CTAT', 'TGTG', 'ATAG', 'CTCG', 'CACA', 'GAGC', 'TAGC', 'GCTA', 'GCTC', 'ACTC', 'TTGG', 'GAGT', 'CCAA', 'CATG', 'CTAC', 'AGGG', 'CCCT', 'CCTT', 'CACG', 'CGTG', 'AAGT', 'ACTT', 'AGTC', 'AAGG', 'GTAG', 'GGGC', 'CCCA', 'TGGG', 'GCTT', 'GCCC', 'GACT', 'CTCC', 'GGAG', 'AAGC', 'GACA', 'TGAG', 'TCCC', 'TGTC', 'TACA', 'TGTA', 'CTCA', 'GGGA', 'CGAA', 'TCTC', 'GAGA', 'TTCG', 'GGCC', 'AATT', 'ACAC', 'GTAT', 'GTGT', 'ATAC', 'GTCT', 'ACCC', 'AGAC', 'GGGT', 'AGTG', 'CCCG', 'ATGT', 'TCCT', 'CGGG', 'AGGA', 'CACT', 'ACAT', 'GTAC', 'ATGC', 'GCAT', 'GTGC', 'GGTC', 'AGGC', 'TTAA', 'GCAC', 'GCCT', 'AAGA', 'TCTT', 'TCCG', 'GACC', 'TGCA', 'ACAA', 'AGAG', 'TTGT', 'CTCT', 'CGAC', 'CGGA', 'GTCG', 'TACG', 'CGTA', 'TATG', 'CTTA', 'TGGA', 'TAAG', 'TCCA', 'CGTC', 'AATG', 'CATA', 'AACT', 'CATT', 'AACA', 'GACG', 'AGTT', 'TGTT', 'ATAT', 'CAAT', 'ACGA', 'GCAA', 'ATTG', 'CGTT', 'TTGC', 'TATA', 'TCGA', 'AACG', 'TTAC', 'GTAA', 'TTGA', 'CCGA', 'ATTC', 'TCGT', 'TCAA', 'GAAT', 'TTAT', 'TACT', 'ATAA', 'AGTA', 'CAAA', 'TCGG', 'ACGT', 'GGAT', 'TTCC', 'TTTG', 'GCCG', 'GGTT', 'ATCC', 'AACC', 'CGGC', 'ACCT', 'AGGT', 'ATCT', 'CGAT', 'GTCA', 'AGAT', 'ATCG', 'GGAA', 'TGCG', 'CGCA', 'TGAC', 'GATT', 'ATGG', 'AATC', 'CGCG', 'TTCT', 'AGAA', 'CCAT', 'GCGC', 'AGCT', 'TTCA', 'TGAA', 'GCGA', 'TCGC', 'AAAT', 'ATTT', 'ATGA', 'CAGT', 'TGGC', 'ACTG', 'TCAT', 'GCCA', 'CAAC', 'TCTG', 'GATC', 'GCGT', 'GTTG', 'CAGA', 'GAAC', 'ACGG', 'ACGC', 'CCGT', 'GTGG', 'GTTC', 'CACC', 'CCAC', 'GGTG', 'GCGG', 'CCGC', 'AGCC', 'TGAT', 'ATCA', 'GGCT', 'GTGA', 'TCAC', 'CGGT', 'AAAG', 'CAGG', 'ACAG', 'CTGT', 'CCTG', 'CTTT', 'ACCA', 'ACCG', 'AAAC', 'GTTT', 'TGGT', 'TAAT', 'TGCT', 'ATTA', 'AATA', 'TATT', 'AGCA', 'TACC', 'GCTG', 'GGTA', 'CATC', 'GATG', 'CAGC', 'TTTC', 'GAAA', 'GGCA', 'TTTA', 'TAAA', 'AAAA', 'TGCC', 'TTTT', 'CTGC', 'GTTA', 'TAAC', 'AGCG', 'CGCT', 'GCAG', 'GAAG', 'CTTC', 'CCGG', 'TATC', 'GATA', 'GGCG', 'CGCC', 'TCAG', 'CTGA', 'CTGG', 'CCAG']\n"
     ]
    }
   ],
   "source": [
    "ratio_sorted_4uplets=sorted([u for u in uplet_occurencies.keys() if len(u)==4],\n",
    "                            key=lambda u: uplet_ratios[u])\n",
    "print(ratio_sorted_4uplets)"
   ]
  },
  {
   "cell_type": "markdown",
   "metadata": {},
   "source": [
    "### Some info:\n",
    "- 'CTAG' is a restriction recognition site (a sequence recognized by [RM system](https://en.wikipedia.org/wiki/Restriction_modification_system))\n",
    "- 'TAG' is a stop codon\n",
    "- 'TAA' is a stop codon"
   ]
  },
  {
   "cell_type": "markdown",
   "metadata": {},
   "source": [
    "## 6-uplets statistics\n",
    "\n",
    "- There are $4^6    =4096$ possible triplets."
   ]
  },
  {
   "cell_type": "code",
   "execution_count": 25,
   "metadata": {},
   "outputs": [
    {
     "name": "stdout",
     "output_type": "stream",
     "text": [
      "4095\r"
     ]
    }
   ],
   "source": [
    "seq = np.array(genome_sequences[0])\n",
    "\n",
    "uplet_length=6\n",
    "\n",
    "uplet_occurencies=dict()\n",
    "for nit, it in enumerate([it for it in itertools.product(alphabet, repeat=uplet_length)]):\n",
    "    print(nit, end='\\r')\n",
    "    uplet=''.join(it)\n",
    "\n",
    "    t_uplet=(seq[:-(uplet_length-1)] == uplet[0])\n",
    "    for i in range(1,uplet_length):\n",
    "        if i < (uplet_length-1):\n",
    "            t_uplet&=(seq[i:-(uplet_length-1)+i] == uplet[i])\n",
    "        else:\n",
    "            t_uplet&=(seq[i:] == uplet[i])\n",
    "\n",
    "    uplet_occurencies[uplet]=np.sum(t_uplet)\n",
    "\n",
    "    freq_random=frequencies[uplet[:3]]*frequencies[uplet[3:]]\n",
    "    uplet_ratios[uplet]=uplet_occurencies[uplet]/(freq_random*len(seq))"
   ]
  },
  {
   "cell_type": "code",
   "execution_count": 26,
   "metadata": {},
   "outputs": [
    {
     "name": "stdout",
     "output_type": "stream",
     "text": [
      "['CCTAGG', 'CCTAGA', 'TCTAGG', 'TCTAGC', 'GCCTAG', 'GCTAGA', 'TCTAGA', 'GGCGCC', 'ACTAGG', 'CCTAGC', 'GCTAGG', 'ACTAGA', 'GTCTAG', 'CTAGGA', 'CTAGAC', 'CTAGGT', 'TCCTAG', 'CCTAGT', 'CTAGGC', 'TCTAGT', 'ACCTAG', 'CTAGAA', 'CTAGAT', 'GCTAGC', 'ACTAGC', 'CTAGCA', 'ATCTAG', 'GACTAG', 'CTCTAG', 'GCTAGT', 'TTCTAG', 'ACTAGT', 'GGCTAG', 'CTAGCT', 'CTAGGG', 'GGGCCC', 'TGCTAG', 'CTAGTC', 'TACTAG', 'CTAGAG', 'AACTAG', 'CACGTG', 'CTTGGA', 'TCCAAG', 'CGGCCG', 'AGCTAG', 'CCCTAG', 'CTAGCC', 'CTAGTT', 'CGCTAG', 'GCCGGC', 'CTAGCG', 'TCTAAG', 'CACTAG', 'CTTAGG', 'CTAGTA', 'CTTAGA', 'ATAGGA', 'CCTTGG', 'GAGACC', 'CTAGTG', 'GGTCTC', 'TTAGAC', 'TTAGGA', 'TCCTAT', 'CCAAGG', 'GTCTAA', 'CCTAAG', 'TTGGAA', 'TTCCAA', 'TCCTAA', 'TTAGGC', 'CCAAGT', 'TCTAAA', 'TCCAAA', 'TTTAGA', 'GCCTAA', 'TTTGGA', 'ACTTGG', 'TTGGAC', 'GTCCAA', 'ATCTAA', 'GCTTGG', 'TTAGAT', 'GGGACC', 'CCAAGC', 'GGTCCC', 'TTCTAA', 'TAGGAC', 'GGTCCT', 'TTAGAA', 'ATTGGA', 'TCTAAT', 'TCCAAT', 'TTTAGG', 'TCTTGG', 'CCTAAT', 'GTAGGA', 'AGGACC', 'AGGGCC', 'GCATGC', 'CCAAGA', 'ATTAGG', 'GTCTCA', 'TCCTAC', 'TTAGGT', 'ACCTAA', 'ATTAGA', 'CTGAGG', 'TCACAG', 'CTTGGG', 'CTGTGA', 'CTTAGT', 'GGCCCT', 'GTCCTA', 'ATCCAA', 'CCTAAA', 'TGAGAC', 'ACTAAG', 'GGGTCC', 'AATAGG', 'TGGACC', 'CCCAAG', 'CGAGCC', 'TTGGAT', 'GGCCCA', 'CCTATC', 'CACTTG', 'GAGCCC', 'GGACCC', 'CTTGGT', 'ATAGGC', 'TGGGCC', 'TTAGGG', 'GGTCCA', 'GCCTAT', 'GTCCCA', 'TCTAAC', 'TGGGAC', 'GGCTCG', 'TCTCAG', 'TGAGGC', 'GATAGG', 'CTTGGC', 'GTTAGA', 'CCGCGG', 'CCCTAT', 'GCCAAG', 'CTGAGA', 'ATAGGG', 'CCCTAA', 'ACCAAG', 'CCTATT', 'CAAGTC', 'GCCTCA', 'ACCCCC', 'CCATGG', 'CAAGTA', 'CCTCAG', 'TAGGAT', 'CCTACT', 'GCTAAG', 'GACTTG', 'TGAGCC', 'TTAGTT', 'GTTAGG', 'GGTCCG', 'CAAGTG', 'GTCAAG', 'TTGGAG', 'TTAGTA', 'AGGGGT', 'TGAGGT', 'CCTAAC', 'GAGCTC', 'TACTAA', 'GTCTCG', 'CCTACC', 'CTTAGC', 'ACCTCA', 'ATCCTA', 'CCTATG', 'CTCTAA', 'TATAGG', 'AACTAA', 'CGGACC', 'TAGGAA', 'CTCCAA', 'GGGGGT', 'CTTGAC', 'TTCCTA', 'GTCCCG', 'TATACG', 'TGGCCA', 'CCGAGT', 'ACCTAT', 'GGGCTC', 'ATCTAT', 'CCAATT', 'ATAGGT', 'GAATTC', 'GCCCAA', 'TTGGGC', 'AATTGG', 'GACCCT', 'GAGGGC', 'AGTAGG', 'ACCTCC', 'TCGAAT', 'CATAGG', 'CGTATA', 'ACTTGA', 'ACGTGT', 'CCGAAT', 'GGCTCA', 'CCTATA', 'CGGGAC', 'TCAAGT', 'GACTCG', 'ACCCCG', 'GGACAC', 'GCGGCC', 'TGGGGT', 'GTCCGA', 'GACCCC', 'TCTATG', 'AGGGAC', 'AACTTG', 'ATCTTA', 'GGCCGC', 'ATTCGG', 'TTAGCT', 'GGACCT', 'TAGGAG', 'TTAGTC', 'GGCTCT', 'ACACGT', 'GCCTTG', 'CAAGTT', 'GGTCTA', 'CGGGGT', 'ACCCCA', 'GGGGCC', 'TAGGGC', 'TGCTTG', 'GCCTAC', 'TAAGAC', 'GGACCA', 'ACCCCT', 'CGAGTC', 'TACTTG', 'CGGGCC', 'ACGAGC', 'GCCCTA', 'GTAGGC', 'CGGGGG', 'TCGGAC', 'GGTAGG', 'CTCGGA', 'CGAGTG', 'CCCTCA', 'TCCCAA', 'AGGGTC', 'AGAGCC', 'CTGTGT', 'ATTATA', 'TAGGGT', 'ACTCGG', 'GGCCGG', 'TGAGGG', 'CGGGGC', 'ACCCTA', 'GTCCTC', 'AGTATA', 'ACACGA', 'AGCTAA', 'ATCCGA', 'TCGGAT', 'CGAGAC', 'GTGTCC', 'GGCCCG', 'TAAGAT', 'GCCTCC', 'AGGTCC', 'ATTGTA', 'CGGTCC', 'ACCTAC', 'TGGGTC', 'CCCCCC', 'TTGGGA', 'CTGCAG', 'CTTGTA', 'GGGGTC', 'CTCCGA', 'GGTACC', 'CTGTCC', 'GGCTCC', 'CCGGCC', 'TGGTCC', 'ATTCGA', 'GTGTGT', 'GTCCCT', 'TACAAG', 'GGCCAA', 'CACTCG', 'TTAGCA', 'GGAGGC', 'GCCCCG', 'ACGAGG', 'ACACAG', 'TTAGAG', 'CATAGA', 'CGAGGG', 'CCCTAC', 'TGCTAA', 'CAAGGC', 'GCCTTA', 'ACCCAA', 'TATACT', 'CACTTA', 'GGAGGT', 'ATTAGT', 'GGAGCC', 'CGAGGC', 'CCGAGC', 'TCGGAG', 'GTCTTG', 'GGACAG', 'CGAGGT', 'CGTACG', 'CTCGAG', 'GACCCA', 'CAAGCG', 'GCTCGT', 'TATAAT', 'ATAGAT', 'TTTGGG', 'TCGGAA', 'CAAGCA', 'CCTACG', 'CTCCCA', 'GCCTCG', 'GGCCCC', 'CGCTTG', 'GGGGGG', 'GCTCCG', 'AGCTTG', 'ACGAGT', 'TAAGCT', 'CTGAGC', 'ACCTCG', 'CACACG', 'CAAGAT', 'TAAGTG', 'ACTATA', 'CTCTCA', 'GGCCAC', 'GTCTTA', 'TGAGCT', 'TACACG', 'TAGACC', 'ACCTTA', 'TCGTGT', 'CGTGTA', 'TCCGAA', 'TTCCGA', 'TGCTAT', 'TTGGGT', 'TCCGAG', 'GTTGGA', 'GCCCTC', 'GGACCG', 'TATAAG', 'CATGTG', 'GCTATA', 'CGGAGC', 'TTCGGA', 'CAGTCT', 'GGCCGT', 'CGAGCT', 'GAGGAC', 'GTGGCC', 'CGTGTG', 'TATAGT', 'CAAGCC', 'ATCTTG', 'CCCCCG', 'GCTCGG', 'CTTATG', 'TTGGCC', 'GTCTAT', 'CCTCGT', 'TTTAGT', 'AGCTTA', 'TTCTAT', 'TATATA', 'ACCCTT', 'ATTCTA', 'GTCTAC', 'TTCGAA', 'CCACGT', 'ACACGG', 'CACATG', 'GTAGGT', 'GTTAGT', 'ACACAC', 'AGCTCG', 'TCTATA', 'ACGGCC', 'AACTTA', 'GCACAG', 'TACAAT', 'ATAGCA', 'TGCAAG', 'GGAGGG', 'CAAGAC', 'TTCAAG', 'GCCTCT', 'AGCCTA', 'CTTGAA', 'TTTAAG', 'CATGCG', 'CCAAAT', 'TCCAAC', 'TAGACT', 'CCGTGT', 'CGTAGG', 'ACTAAT', 'GACTAA', 'GGAGCG', 'CTTGCA', 'CCCAAA', 'CCTCCG', 'TACTAT', 'TAAGGG', 'CATATG', 'CTCCTA', 'CTTATA', 'TTGACA', 'GCACAC', 'GCTTGA', 'TGACAG', 'TAAGGT', 'CTGTGC', 'ATAGTA', 'CCTCCA', 'TAAGAA', 'GTAGAC', 'CACAAG', 'ATAGAA', 'TCCGAT', 'CCCTCC', 'TAAGAG', 'GACTCA', 'CGCTCC', 'TAAGGC', 'CAAGCT', 'CTTGTG', 'CGGAGG', 'CGCATG', 'CCCTCG', 'CCCTTA', 'AGCGCT', 'TGGACT', 'ACTCGT', 'GGCCGA', 'ATAGAC', 'CTGTCT', 'ATACGA', 'TAGAAT', 'TGGGCT', 'AACTAT', 'AGACTG', 'GTGTGC', 'CTGTCA', 'TCTATC', 'GTGTGA', 'TAGGCT', 'ACTAAA', 'AAGGGT', 'AGTCCA', 'ACTCGA', 'ACGAGA', 'GGGGGC', 'TAGGCG', 'CGAGCG', 'ACGTGC', 'GTAGGG', 'ACCTTG', 'TATAGC', 'GGCTTG', 'TCTCGG', 'AGCCCA', 'TTTAGC', 'AGACAC', 'GAGGCC', 'TGCTAC', 'CTAAGA', 'CCGAGG', 'TCTTAG', 'ATTTGG', 'TCAAGC', 'ATAGCT', 'CATACG', 'TGCATG', 'AGTCTA', 'AGACAG', 'GCCCCT', 'CAAGGT', 'GTAGCA', 'GAATTG', 'AGAGGC', 'GGACTG', 'GACACG', 'GGGGAC', 'TCGGCC', 'CGAGTT', 'CTTAAA', 'TCACAC', 'CCTCGG', 'CAGAGG', 'TCCTTG', 'AAGTCC', 'GCACGT', 'TGGGGC', 'TGAGAA', 'CGAGTA', 'TCGTAT', 'GGACTC', 'TATATG', 'TGGGAG', 'TTCCCA', 'TTGGGG', 'TAAGTT', 'ATCGGA', 'AGCTTT', 'ACGTGG', 'CATGCA', 'TGTCAA', 'GAGGGT', 'TCTACG', 'GCTCCT', 'CTCTTA', 'TATAGA', 'CCCAAT', 'ATTAGC', 'CATAAG', 'CCTCTG', 'TGTATA', 'GCTAAA', 'AAGGAC', 'GAGTCC', 'TAAGTC', 'TGAGAT', 'ATGTGA', 'GGAGAC', 'CTGTGG', 'CAAGAG', 'TGAGAG', 'CGCTCG', 'GTCCTT', 'TCTCGT', 'CACGAG', 'GCTCAG', 'CTCGTA', 'AGGAGC', 'CGTATG', 'CATATA', 'GGGTCT', 'TCGAGC', 'GCCCCA', 'ACAAGT', 'AGCTCA', 'CGTGTC', 'TGAGTC', 'TTCGCA', 'TCACAT', 'GGCCTC', 'TATGTG', 'TGGGAA', 'ACCCTC', 'CAAGGG', 'ACCCAT', 'GCTCGA', 'CTCGCA', 'TCGGGC', 'TGCACG', 'ATGTGC', 'TCGAGT', 'GTCCGC', 'GCTCCC', 'GATAGA', 'ATCTCA', 'ACGTGA', 'ACTAAC', 'CCCTTG', 'CAGTCC', 'GTCTCC', 'CATGTA', 'GTGTCT', 'TATACA', 'AAAGCT', 'CCCCCA', 'GACTTA', 'GGGACG', 'TGGGGG', 'GCTCGC', 'GCCCCC', 'ATGTGT', 'ACACAT', 'TGGAGG', 'TCACGT', 'AACTCG', 'TTAGTG', 'TGGACA', 'CCACAG', 'GCGAGC', 'GTAGCT', 'TCTACT', 'AGAGGT', 'TGGGTT', 'CCCCAA', 'CAGTCA', 'TGTGTA', 'TATGTA', 'CCGAGA', 'AATAGA', 'TGTAGG', 'CTCTCG', 'TGAGTG', 'ATCCCA', 'CCCCTA', 'GGGAGC', 'ACTTGT', 'ATAGTT', 'TATATC', 'AGACCC', 'CATAGC', 'AAGACC', 'AGCTCC', 'TTCTCA', 'GGTCTT', 'GGCCTA', 'TTCTTA', 'GACAAG', 'GCTAAT', 'ATACGT', 'TGACTG', 'AGTCCG', 'ATGGGT', 'ATGGCC', 'GCCCGA', 'TCCTTT', 'AGCTAC', 'GCGAGT', 'AGGAGG', 'TTGTAT', 'ATACAC', 'GGAGCT', 'TGCGAG', 'TGTAAG', 'ATGTAA', 'CAAGGA', 'TAGATC', 'TGACAC', 'GTGTAC', 'TACTCG', 'CCCCGA', 'GCACAT', 'CATAGT', 'TGCTTA', 'TGAGGA', 'GATATA', 'ACTATG', 'GCCCTT', 'CAATTC', 'TCAAGG', 'TTTTGG', 'CGCCTA', 'TTAGCC', 'CAGAGC', 'TCAAGA', 'TCGGGG', 'AGAGTC', 'GCTCTG', 'ACTCAG', 'GCTATG', 'GCACGG', 'AGCTAT', 'CTCTTG', 'CCTACA', 'GTGCAC', 'AACTTT', 'ATACAA', 'ATGTAT', 'AGTCCC', 'TGGGAT', 'TGGGCA', 'AAGGCC', 'TATGCG', 'TCTTGA', 'CCGTGC', 'AGGGGC', 'AAGCTT', 'GTGTCA', 'CGAGAG', 'CCGAAC', 'GACTCT', 'GATTGG', 'AGAGCT', 'CGTAGA', 'TGGAGC', 'CCAAAA', 'GGCCTT', 'CTTGCG', 'TAAGTA', 'GTCCCC', 'GGCTAA', 'ATTGGG', 'TCCCAT', 'AACCCA', 'ATCCTT', 'TCTATT', 'CCTTGA', 'CTTACA', 'CTTAAG', 'AGGACT', 'TGTCCA', 'CCTCAT', 'GCGGAC', 'TAAGCG', 'AACTAC', 'GCGTCC', 'TCGTGC', 'AGTCCT', 'TACATG', 'CCGAAA', 'ACCTCT', 'CGCTTA', 'TACGAG', 'TGGCCG', 'CACTAA', 'AAGGGC', 'GCGAGG', 'GGGACA', 'CGCAAG', 'TAACAG', 'CCTCCT', 'TGCGAA', 'ACTCCG', 'AAAGGA', 'GGCTTA', 'CGTCCC', 'AAAGTT', 'TCACAA', 'ATGGGA', 'TTCTTG', 'GTGTAT', 'TCCTTC', 'CACTCA', 'TGGATC', 'CGCATA', 'CCAATC', 'CAGTTA', 'ATACTA', 'GTTAGC', 'GTAGAT', 'GATCTA', 'CACACA', 'TCGCAG', 'GGGACT', 'CGTCTA', 'GGCCAT', 'ATCTAC', 'TTACAT', 'GGACTT', 'GCTAAC', 'CAGTGT', 'GCTCCA', 'ACGTAT', 'TGTGTG', 'GTTCGG', 'GCACGA', 'GGTATA', 'CAAGAA', 'TTGTGA', 'TTACAG', 'ACACGC', 'ACACAA', 'ACTCGC', 'CTGTTA', 'CGGACT', 'AGTAGA', 'CGGCCA', 'CCTCGC', 'CCATGT', 'GCTACA', 'GATACA', 'GCGTGT', 'ATGAGG', 'ATTCCA', 'GTATAC', 'AGCCTC', 'GCAAGT', 'TTGTGT', 'ACATGT', 'TAACTG', 'GAACCC', 'GGGTTC', 'GCCCAC', 'GTTTGG', 'CCGACC', 'GAGTGC', 'CGAATC', 'ATCATA', 'CCAAAC', 'CCGATC', 'CGAGAT', 'GGACAT', 'CTCGTG', 'AGTCAA', 'TGTCCC', 'TAAGCA', 'GTGTAA', 'TAGGCC', 'CCCCGT', 'TGTAGC', 'GGAATC', 'ACACTG', 'TAGGCA', 'GACTCC', 'ACTTGC', 'CAGTCG', 'GAGGCT', 'GGTCGG', 'TGGTTC', 'TTACAC', 'GTACGA', 'TATGAT', 'TATACC', 'GTACAC', 'AACCCC', 'TACATA', 'CGTGCA', 'GCACGC', 'GGACGC', 'CTGAGT', 'TCAAAT', 'TTTAAA', 'GATTCC', 'CTCGAA', 'ATACAT', 'TAGACG', 'CTAAGC', 'TAAGCC', 'AGCTTC', 'CCGTCC', 'TCTCGC', 'CACATA', 'GCTACT', 'AAGTTT', 'ATGCAT', 'ATCTCG', 'TGTGTC', 'ACGAAC', 'TACTTA', 'ACGGGG', 'AGAGAC', 'AGAGCG', 'AAGTCT', 'TTTCGG', 'CTGGCC', 'TCCTCA', 'GAACCA', 'AAACTT', 'AAATTT', 'AGTCGT', 'GTTACA', 'ACAAGC', 'TGCCCA', 'GGGGTT', 'GGAGGA', 'TCGTAC', 'GGAGTC', 'TGTAAA', 'AAGTAT', 'CGGAGT', 'GCGTGC', 'GAAGCT', 'TACTAC', 'CTTACG', 'CAGTGG', 'GCGAGA', 'CACGAA', 'GATCGG', 'CACTCC', 'TACGAA', 'AAGGAT', 'CGTGCG', 'TTACAA', 'CTGTAA', 'GGACGG', 'TGAGCG', 'TGTATC', 'GTCTCT', 'ATTTGA', 'GGGAGG', 'GAATCT', 'ATACAG', 'AGCCCT', 'GCACTC', 'TGGAAT', 'ATGTGG', 'GAGGGA', 'ACATGA', 'TCCCTC', 'TCAATT', 'CAGGGT', 'TTGACT', 'AGACTT', 'GAGGCA', 'CCTCCC', 'CGTCCT', 'TAGGGA', 'GGAGCA', 'GATCCA', 'TGCCTC', 'TTGTAA', 'CGCTCA', 'AGTAGC', 'GATTCG', 'TACACA', 'AGCTCT', 'CCCGAG', 'AAACGA', 'TCGTGG', 'TGCTCC', 'AGTCTT', 'AGAGGG', 'TTTCGT', 'CCATGA', 'GAACGA', 'CGCACG', 'ATGTCA', 'CCCCCT', 'TTCTAC', 'AGACTC', 'TAGGGG', 'AATTGA', 'GTCCTG', 'CCAACT', 'TCCTCC', 'TAAGGA', 'CGATTC', 'CTCCGT', 'ACGAAA', 'TCGTTC', 'CTCGGG', 'CGACTG', 'TCCTTA', 'CTTGTC', 'GGATCC', 'ATAGTC', 'TCATGT', 'CATTGG', 'GGGTGC', 'CCTCGA', 'CAGGAC', 'AGGACG', 'CCACAT', 'TTTACA', 'GCTTGT', 'CCACGA', 'CATGTC', 'CCCTTT', 'TTCAAA', 'ACCCGA', 'GGAGTG', 'GTAGTT', 'ATCGCA', 'CTGTAT', 'AAGACT', 'TAGTAT', 'TCGTTT', 'CCGATT', 'ACCCTG', 'CCACAC', 'TGCCTA', 'ATGTCC', 'ACGGAC', 'CGCTCT', 'CGGGCT', 'TTTCGA', 'TCGAAA', 'GCATGT', 'GCAAGC', 'AATCTA', 'AACACA', 'TCGAAC', 'GCACCC', 'CGGTCT', 'CGTAGC', 'ACATGC', 'AATCGG', 'CTGCGA', 'CGCTAA', 'TCGAGG', 'GAATCG', 'TGTAGA', 'CCCTCT', 'AATGTA', 'AACACG', 'GTGGGC', 'TCCCAG', 'TGTGCA', 'TATAAC', 'TCGGGT', 'GAAGGA', 'GATCCG', 'AGGGCT', 'TAGTCC', 'GTGAGA', 'GAACTT', 'GTGTTC', 'CGGACA', 'GTCCGT', 'TGACAT', 'CGGATC', 'AACTCA', 'GGGGTG', 'AGATTC', 'CAGTGA', 'AATTCG', 'CGAATT', 'GAATGA', 'GTATAT', 'GTGTGG', 'GATACG', 'TGCTTC', 'TTCGTG', 'AGCCCG', 'AATAGC', 'TCATGG', 'CCACTG', 'TTCGAG', 'GAGACT', 'AAACAC', 'GCGGGG', 'ACGAAT', 'GCTTGC', 'GGGTCG', 'AAAGGT', 'ATTCAA', 'TGCAAA', 'CGTATC', 'TGGACG', 'CCAACC', 'CACTAT', 'CGTGTT', 'TACACT', 'TCTCAT', 'AAAGTA', 'GATCTG', 'TTAGCG', 'TTAAGA', 'GGCCAG', 'ATGAGA', 'ACGATT', 'TTTGCA', 'ACTACT', 'TGTGCG', 'CGTAAG', 'TCTACA', 'TCATAC', 'TCCCTA', 'GTGGAC', 'CGTCCG', 'GTTATA', 'CCGTGA', 'TGAGTT', 'TTTGAA', 'TGTGAG', 'ATTGCA', 'AAATGA', 'GCTTAG', 'GTTCGC', 'CTGGGA', 'CGACAG', 'TCGAGA', 'TACTCA', 'TCACGG', 'GTGTTT', 'CGTCCA', 'GTACAA', 'AATCGT', 'TCACGA', 'GCATGA', 'GGTCGC', 'AGTCTG', 'TCGTGA', 'GGAGTT', 'GAACAC', 'TATGCT', 'TTCGTA', 'AGGTCT', 'AATGCA', 'CAGCTG', 'CAGGGG', 'ATATGA', 'AGTCGC', 'GGTATG', 'AGTACT', 'GACTAT', 'GCGGAG', 'TGTCCT', 'ACTCTG', 'ACGGAG', 'CATGCT', 'TCATGA', 'TTGAAT', 'TCATTC', 'CTGTCG', 'ATACTG', 'CGCGCG', 'ATGGGC', 'CAGGGC', 'ACTACA', 'TCATTT', 'TCATGC', 'GAAGCA', 'AAAGCA', 'GGACGT', 'CTCACA', 'TGCCCC', 'ACCCAC', 'TACGAT', 'ATGTCT', 'CCTTAG', 'GTCCAC', 'GAGTGT', 'ACACTT', 'AAGGCT', 'GGTTGG', 'CATACC', 'TGTCCG', 'GCCCTG', 'CAGGGA', 'GTTCGT', 'CCCCGC', 'AGGGTT', 'TGTAAC', 'TCCTCG', 'TGTATG', 'AGTATC', 'CAGAGT', 'ATTCGC', 'TGCAAT', 'AAGTTC', 'CCCCTC', 'AGTCTC', 'AGGGGG', 'TGCACA', 'GTACAT', 'GACCTA', 'TGACTC', 'AGCCGG', 'GTTCGA', 'TGGAAC', 'CAGATC', 'TTGTGC', 'TCACTG', 'TCGCAC', 'GGCTAC', 'CTCCCG', 'AAGTCA', 'CCGTAT', 'TGACAA', 'GCGACC', 'CTGGGC', 'GGGCCT', 'GTGGGT', 'GCACTT', 'AGGACA', 'TTGTAC', 'TGCATT', 'ACAAGA', 'ATAGTG', 'GATTCA', 'AGACAT', 'TACATT', 'CTCCGC', 'TGATTC', 'GCTATT', 'TGCATA', 'ATGTAC', 'ATGTTT', 'ACATGG', 'TAACAT', 'TACTTT', 'ACGTCC', 'AGTGTA', 'TAGGTT', 'ACTATT', 'TCTCAC', 'GTGTTA', 'CGCACA', 'ATGTTA', 'CTGATC', 'GCGACT', 'ACTATC', 'AAAGGC', 'GATCAG', 'CGTGCC', 'ACGGAT', 'GAGTCT', 'CACCCC', 'GTGCCC', 'GACTGC', 'GGGCAC', 'CAGTAT', 'AGCATG', 'GCTACG', 'CACATT', 'TCTTAA', 'ACGTCT', 'TCCCTG', 'TGAACC', 'CGGTTC', 'GACTGT', 'ACATTT', 'GTATGC', 'TCCTCT', 'GCCCAT', 'TGCATC', 'ACGACT', 'CCGACT', 'AAAGGG', 'TGTACG', 'GACATG', 'TCGCAT', 'AGACCG', 'AACTCC', 'TATGCA', 'CACAAA', 'TATGTT', 'TCCCCG', 'GCGAAT', 'ATCGTA', 'TTATAC', 'AAATGT', 'AGAGTT', 'AGTTGG', 'CAATTG', 'TACTCC', 'CACTCT', 'CTGTAC', 'TGTGTT', 'ATCCGT', 'AACCCT', 'TCGATT', 'CCAATG', 'AACGAG', 'ATACTT', 'GTATAA', 'GGACAA', 'GTAGCC', 'CGACTC', 'CTTATT', 'TGCTTT', 'AAACAT', 'GAGTCG', 'TGACTT', 'AGCCAA', 'CGCAAA', 'GACACA', 'TTGTCA', 'TACGTG', 'GATAGC', 'ATGGAC', 'GACTTT', 'GAATGC', 'TCCCGA', 'CAGACT', 'GAACCG', 'TCCCAC', 'CCACAA', 'GCACAA', 'ACCCAG', 'TGTACC', 'TTTGAC', 'TGGAGT', 'TGTACA', 'CACGTA', 'AGTCGG', 'TACTTC', 'AACCTC', 'TTTGTA', 'TCCGAC', 'GAACTA', 'TCAGAT', 'GTGAGG', 'ACCATA', 'TTCCTT', 'AAAGTC', 'AATAAG', 'AAGTGC', 'TTTGGC', 'GCCAAA', 'GAGTCA', 'GACTAC', 'TGCTCG', 'GCATTC', 'CGGGTC', 'GCAAGA', 'GCTACC', 'GAAGTA', 'TACAAA', 'CTGGGT', 'ATCTGA', 'AAATGC', 'AGAGGA', 'ACTACG', 'CCACCC', 'GGGGCG', 'TGCGAT', 'CGACCC', 'TCTACC', 'AGGTTC', 'GTCAAA', 'GCTATC', 'TCCATG', 'ATTCGT', 'AGACTA', 'GTAGAA', 'GTATGA', 'CCTCAC', 'ACCCGT', 'CGGACG', 'GCGAAC', 'AATGTG', 'GCCCAG', 'CTCAAA', 'ACTTAG', 'TGAGTA', 'GAATCA', 'GTTAAA', 'AACCTA', 'GCCTTT', 'GCGTTC', 'GAACGG', 'GGTTCC', 'GGACTA', 'GTTCTA', 'GGCACG', 'CTTAAC', 'GGGGCA', 'GAGGTC', 'GCATAC', 'CGGGAG', 'CATACA', 'GCCCGC', 'GTCGGA', 'AATAGT', 'CTTGTT', 'CGCTAT', 'ACGGGT', 'CGGGGA', 'AGTAGT', 'ATAGCG', 'GGTTCA', 'GATAGT', 'TAGTCT', 'TTTGAG', 'TCCCCA', 'ACCTTT', 'CCCCTG', 'CGCAAC', 'GTTAAG', 'TTGGCT', 'TTGCAT', 'TTGTGG', 'CGTCTC', 'GGATTC', 'GCATGG', 'CAGTGC', 'GGTAGC', 'TTTGCG', 'AAGAGC', 'GTCCAT', 'TAGAGC', 'TGCACC', 'AGCCTT', 'GTAAGA', 'AGTATG', 'GAACCT', 'GAATTA', 'ATTCCG', 'CTCAGA', 'TTTGTG', 'CCATTC', 'CGTACA', 'TTTATA', 'TAGATT', 'TAGGTC', 'ACGTAC', 'GAATCC', 'TGAATC', 'AGAGTG', 'TATAAA', 'GTAGTC', 'CCGTTC', 'TCTTGT', 'AAATGG', 'AGGCCC', 'GGTCAA', 'CCATGC', 'GTATGT', 'GTACGT', 'ACTCTA', 'CCCGAA', 'TGAGCA', 'GTTGCG', 'GACACT', 'ATACGG', 'TCTCGA', 'GAGGTT', 'GGTCGA', 'TAATTC', 'GCGTAT', 'CATACT', 'GAACGC', 'ATCCCG', 'GATATG', 'TTCCCT', 'GTCGAC', 'TCTGAG', 'TCTTGC', 'AAGTAC', 'ATGCAC', 'GATTCT', 'AGCATA', 'TAACAC', 'TAGTTC', 'CGAGGA', 'AGACAA', 'GATTGA', 'AATCTG', 'AGACCA', 'GTTCCA', 'AGACCT', 'CCGGCT', 'AACTCT', 'AAATTC', 'TTGCAC', 'GAATGG', 'GTTCCC', 'GCACTG', 'GTGGGA', 'TAATTG', 'ACATTC', 'CGCCTC', 'AAACGT', 'AGCCGA', 'CGCAAT', 'GCAGTC', 'CTTGAT', 'GAAGTT', 'AAGTGT', 'TTACGA', 'AGGGAT', 'AACGAA', 'TGCTCA', 'GACATA', 'GCCATG', 'GGTAGA', 'ATCGAA', 'ACAGTC', 'GATACT', 'GATGCA', 'TTGACC', 'GTGAGC', 'TGCTCT', 'GGAGTA', 'CGAACC', 'GCGGGC', 'TGACCC', 'CATGGA', 'GTACAG', 'CGGGAT', 'GTAGTA', 'ATCTTT', 'AGAATC', 'TTGTCC', 'CTCATA', 'GGTTCG', 'ATATAC', 'GGTGCA', 'TTCGAT', 'GGCTAT', 'AAGGAA', 'AAAGAT', 'CTCATG', 'GAAGGC', 'AGTGCA', 'TGGGGA', 'AACATA', 'ATATAT', 'GACCTC', 'TTGCAA', 'ACTCCA', 'CGGAGA', 'GTACTA', 'CCGTTT', 'CATGTT', 'CCCCTT', 'GAGGGG', 'TCCCGT', 'TACTCT', 'AAAGAC', 'TCTCTG', 'CACCCA', 'AATGCG', 'GGAACC', 'TGTCTC', 'ATGGAT', 'TTGTCT', 'CAATTA', 'GACCCG', 'GGTCGT', 'GGGGGA', 'AGTGTT', 'TCGACC', 'TTTAAC', 'ACACTC', 'CGAATG', 'AGTGTG', 'GCTCTA', 'CGAGCA', 'TGTCTG', 'CTTAAT', 'TTGAGG', 'TCAGTC', 'ACAATT', 'GCATTT', 'AGAGCA', 'TCGGGA', 'ATACGC', 'ACCAAA', 'AACAAG', 'ATAGCC', 'TCATAT', 'CTAAGG', 'TCCCCC', 'AGACGT', 'AACCAA', 'GGCCTG', 'CCACGG', 'CATTCG', 'CGGTCG', 'GTCGCA', 'TCAAAA', 'GTTGTG', 'AACTTC', 'TGGATT', 'TCCGCG', 'TTGGTT', 'GGACGA', 'GTTATG', 'GGTACA', 'AATCCG', 'CGTAGT', 'ATAAGA', 'ACGGGA', 'TCGGCT', 'TGCACT', 'TCGTAA', 'CGACAC', 'ACGTTT', 'AACATG', 'CTGGAC', 'CACAAC', 'CGCCCC', 'TCTCCG', 'AATCGA', 'TTGAAA', 'ATCCCT', 'ACTCCC', 'ATGAGC', 'ATGCGA', 'GTTGCA', 'CGCCCA', 'CATATC', 'GGGTCA', 'TATATT', 'GTGCGA', 'AGGGAA', 'TTCCGT', 'CATGGG', 'TTTCAA', 'TTCGGG', 'CGCATT', 'AGTAAG', 'TGGAGA', 'GTGCAT', 'CATGGC', 'CGGATT', 'CAGACA', 'CTCGTT', 'CCTTGT', 'AGGTAC', 'ATGCAA', 'GGCATG', 'ATAGAG', 'CCATAT', 'ACGACC', 'ATCGTG', 'CAGAGA', 'GGTAAG', 'TACATC', 'AATTGT', 'CAGATT', 'GAGGCG', 'GATTAG', 'GCTCAC', 'ATCCAT', 'GGCATA', 'CGCGTG', 'ATCAAG', 'TATGGT', 'CAGGCC', 'TTGTTT', 'TTCGCG', 'ACTACC', 'GGCACA', 'AAACTA', 'CTTACC', 'CGCGAA', 'AGAATT', 'TCTCCA', 'ATATGT', 'TTGAGA', 'CTCTGA', 'CATAAT', 'AGCCGC', 'CGCGGA', 'GGGCCG', 'AATCCA', 'TATGAG', 'ATAAGT', 'AAGACA', 'GAATGT', 'AGTGCG', 'AATTCT', 'CGGAAT', 'CAATTT', 'TTACGT', 'ACGGGC', 'ATTAAG', 'ATTGTG', 'CGAGAA', 'TAGAGT', 'GTTCCG', 'ATATGC', 'GTGTCG', 'TTCTCG', 'CTAATC', 'TAGTAC', 'GATGTA', 'TATGCC', 'CATGCC', 'TGTAGT', 'CCACTC', 'CCATTT', 'AGTCGA', 'TCCGTG', 'GCGGCT', 'CACAGA', 'ACGTCA', 'GGTGCG', 'TTTTGA', 'TTATGA', 'TCCCTT', 'TCGTCC', 'TCGACT', 'CACACT', 'CGCCCG', 'TACCTC', 'TGCGAC', 'GCCTTC', 'AAACGG', 'AAGGGA', 'AGGGCG', 'TTGGCA', 'CCGTAC', 'ATCTGT', 'AGCTGA', 'TCAATC', 'GTACCT', 'GCTCTT', 'TGGTCT', 'TGTGAC', 'TCGATC', 'CTTACT', 'CACGAT', 'TGTATT', 'GGGTGG', 'GTACTT', 'GATCGC', 'AACATT', 'CCAATA', 'TGAATT', 'AAGAAT', 'CTAAGT', 'AGACGG', 'TGGGCG', 'GATCGA', 'GAGAGG', 'GAATTT', 'TCTCAA', 'TCAGCT', 'GCTCTC', 'GCTCAT', 'AGGGCA', 'CATAAC', 'CCTCTC', 'GTATGG', 'ACTCCT', 'ATCGAT', 'GAGAGC', 'CACAAT', 'AAACAA', 'ACTTAT', 'AATACA', 'AACACT', 'AATATA', 'GCGCGC', 'AATTCA', 'GTGCAA', 'CGGAAC', 'TATGTC', 'CCCATG', 'GAAGTC', 'CTCTAT', 'TCTTAC', 'GCAGCC', 'AGGAGT', 'CGGGCG', 'AACCCG', 'GAGACA', 'CAAATG', 'TTCACA', 'CTTGAG', 'CCGTGG', 'TTTCCG', 'ACCCGG', 'GTACGG', 'AAGTTA', 'ATATGG', 'TTTGGT', 'TCAAAC', 'GCCGCG', 'GGTAGT', 'TGTAAT', 'CTCGCG', 'GAGACG', 'CCGTAA', 'CGTGCT', 'ATTACA', 'AGCTGT', 'TTACGG', 'CTGTAG', 'GATCTT', 'ACATAT', 'CCATAC', 'GAGGTA', 'ATTATG', 'CATGAG', 'GGGAAC', 'CACAGT', 'TGCCCT', 'CCGACG', 'ATCACA', 'TACGTA', 'GCATAT', 'CGTCGG', 'CCTCAA', 'GGCTGC', 'TCACTC', 'GAAGAC', 'TGTGAA', 'AAATTG', 'GCGGTC', 'TGGGTG', 'CGCACC', 'GGTCTG', 'TGTGAT', 'CGACCG', 'CTGCTA', 'TAGTTT', 'CGCACT', 'CGACTT', 'AGTGTC', 'CAGTTT', 'CCGGGT', 'AGAGTA', 'CCTCTA', 'AGACGC', 'GTCCAG', 'ACAAGG', 'CACGCG', 'CAGAAC', 'ATTGCG', 'TGTGCC', 'CAGAAT', 'AGCCCC', 'GGTTCT', 'TTAAGG', 'TAACTT', 'TTATAA', 'GGGGCT', 'GTCTTT', 'CACCCG', 'CAAATC', 'GTCTTC', 'GCCCGT', 'ATTCTT', 'ATTCTG', 'GCGATC', 'GAACAT', 'TCATAA', 'AGGCAG', 'CAGCCG', 'AAGTCG', 'CTTGCT', 'GTCGAA', 'GAGTTC', 'TCTTAT', 'TCTGTG', 'GCGTCT', 'TACAAC', 'TGCAAC', 'GCGGGA', 'CAGGAT', 'AAGGGG', 'CCTTAA', 'CGCCCT', 'TGACGT', 'ACGTCG', 'GCGTGA', 'TTTAAT', 'GGCTTC', 'TAGAAC', 'GGGTTT', 'CGGCCC', 'CACCTA', 'CGTAAA', 'TTGAGC', 'AGGATC', 'AATGCT', 'GGCAAG', 'CTCCCT', 'GCTTAT', 'CGCGAG', 'GCCGAA', 'ACGTAA', 'CTACAG', 'CGGGTT', 'AAACCC', 'TTGAAC', 'TCCCGC', 'TGTCTT', 'TTCGTT', 'AAGCAT', 'CACTAC', 'TCGCAA', 'GACTTC', 'GTTCAA', 'TAGGTG', 'GAACGT', 'AAACAG', 'ACCCGC', 'CAGACC', 'AGCTGC', 'TTCTTT', 'CTCAAG', 'TTTCGC', 'ACCGCG', 'CCCAAC', 'GAAGCC', 'ATCTCC', 'CCAAAG', 'GATCGT', 'AGATTT', 'TGTCTA', 'GTAGTG', 'ACGTTC', 'AGCATT', 'CCCCAT', 'GCGGGT', 'GAGTGG', 'GCGAAA', 'GTTCTG', 'TCGTCT', 'AGGCCT', 'CATGAA', 'ACGGAA', 'ACATAC', 'TAGCAG', 'GTTTGA', 'ACCATG', 'GAGTGA', 'CGGAAA', 'TATGAA', 'CGCGGC', 'TATTGG', 'AATGTT', 'CATGAT', 'AAATCT', 'TGATCT', 'ATGCTT', 'TGCCAA', 'GGGGTA', 'ATTGGT', 'ATTAAA', 'ACGACA', 'ATGATC', 'TCAGAA', 'GCGTGG', 'AGGGAG', 'CGCGGT', 'CCCCAC', 'AAGTAA', 'CTGTTG', 'GTACCA', 'CGCGTT', 'GATCCT', 'GGCTTT', 'ATGGGG', 'GTTACG', 'TAGATG', 'TTCCGC', 'GGGAGT', 'AAGGTT', 'CTGACA', 'TTTATG', 'CTCCTT', 'GCCCGG', 'AGCACG', 'TAGACA', 'CACGGA', 'CTTGCC', 'GCTCAA', 'TGCGTT', 'GTTGGG', 'CTGCCT', 'TTACTT', 'GTACGC', 'ATGTTC', 'CGACGT', 'GAGGAG', 'CGCGTA', 'TTTACG', 'ATGCTA', 'ATCCTG', 'GACTGA', 'ATGGAG', 'AAACTG', 'TCAGAG', 'ATCCGC', 'CACGTC', 'CGTAAC', 'GTGCTT', 'GTGACT', 'ACGATC', 'TGCGTG', 'CCGTCT', 'AGCAAG', 'AGCCTG', 'GTCACA', 'GGTCAC', 'GTTACT', 'ACTGTG', 'AGGCTC', 'CCGGGC', 'TTCATG', 'AGCCGT', 'CCACGC', 'AACCTT', 'AAAGCC', 'CTGTTT', 'CATTTG', 'TTGCGA', 'TTCCAT', 'AGGTGC', 'GTGGGG', 'AGTCAC', 'TTAAGT', 'TCGAAG', 'TGTCAG', 'CAGATG', 'GACGTG', 'CATAAA', 'TAAATG', 'TCACGC', 'GCCAAC', 'GCAATC', 'GGTGTG', 'TTGAGT', 'TGCGCG', 'CATCTA', 'TACCTA', 'AGAACC', 'CCCTTC', 'TTCTGA', 'TACGCG', 'CGGGTG', 'GGGTAC', 'AATTGC', 'ATCAAA', 'TACCAT', 'AAGATT', 'CTTCGG', 'GCGGAT', 'AGACGA', 'TGGCCC', 'CGACGG', 'TACGTC', 'GCAATT', 'CCTTGC', 'TGCCTT', 'GCGTCA', 'TTATGC', 'ACATAA', 'CCACCT', 'CTTATC', 'TTTCTG', 'TAATTT', 'GACCGC', 'CAACAG', 'AACCGA', 'GATTTG', 'ACTTAA', 'GGAGAT', 'GAACAG', 'AGGGTG', 'CAGAAA', 'TGTGCT', 'AAGATC', 'GTTGGC', 'ACAGAT', 'CATGGT', 'AGTCAG', 'GAGCCA', 'GAGCCT', 'AACGCA', 'CAGGCA', 'ATGGAA', 'AAGTGG', 'ATTCCT', 'ACAGCT', 'GTAGCG', 'CCTTAT', 'ATTGGC', 'TTCGGC', 'CAACTA', 'ACCAAC', 'CCCGAT', 'GCACCT', 'CACACC', 'TCCCCT', 'AAAGCG', 'CAGGCT', 'CGGGCA', 'ACGGCT', 'ATCGTT', 'CAACTG', 'CGCGCA', 'CGCTTC', 'GACCTG', 'GCGACG', 'GGGCCA', 'TTCCCC', 'GATCAC', 'ATAAGC', 'GATGTG', 'GTGATC', 'AACTGT', 'AAGGCA', 'TTCCCG', 'GATCAT', 'CGTATT', 'GTCAAC', 'GTGCAG', 'CCGTCG', 'AAACGC', 'GCGGAA', 'GCGGTT', 'CTGACT', 'GTTGAC', 'CGCTTT', 'GGTTGC', 'TTATGT', 'CGTCGC', 'CGACAT', 'TGTCGG', 'GCTTAA', 'TAGCAC', 'GCGTAC', 'CGACGC', 'ATTGAC', 'GCAGCT', 'CATCTG', 'GCTTAC', 'TCGGTT', 'CTGCAC', 'GCATAA', 'TTTGTT', 'ATGATA', 'AATGGG', 'CAACTT', 'AACCGC', 'CTGGGG', 'CGATTG', 'CGCGAT', 'GCGATT', 'GGTACG', 'CAGAAG', 'TAGCAT', 'CGGCTG', 'CCGAAG', 'TATGGG', 'CTGAAC', 'CACCCT', 'AAAGAA', 'AATTCC', 'TAATGG', 'CCAACG', 'CTGTTC', 'GTTCTT', 'ACTCAA', 'TGGCTC', 'TACCCC', 'AGGTTT', 'CAGTTG', 'GTGCTA', 'GTAAGC', 'ATCGCG', 'ACCAAT', 'ATCATG', 'CAGGAG', 'ACCGAA', 'AGGATT', 'TCCGTA', 'CAGGTC', 'CCGGGG', 'CTTCTG', 'AATCCT', 'TGTACT', 'CGTTCG', 'AGATCA', 'AATACT', 'GCAAGG', 'CCACTT', 'TTAAGC', 'ACGAAG', 'CGCTAC', 'CGTTGG', 'GAAGCG', 'TTTCCA', 'AGCACA', 'TTTGAT', 'TGGTAC', 'AACAAA', 'AATATG', 'TATCAT', 'GTGACC', 'GCGTCG', 'GTACCC', 'TGACGC', 'CTCCAT', 'TAGTGC', 'AGATCT', 'TTCGGT', 'TACGTT', 'TTGACG', 'GAGCTT', 'CTGCAT', 'CTTTGG', 'TTGTTA', 'TTCGAC', 'TGGAAA', 'GCGTTT', 'ATGCGG', 'TGCCCG', 'ATGACT', 'TCAAAG', 'ACTGTA', 'CACTTT', 'TATGGA', 'GTTGTA', 'CATTTA', 'ATATAA', 'CCGACA', 'AACGAT', 'CCCCAG', 'GTTCCT', 'CACGGC', 'AATCGC', 'GACATT', 'TCCGTT', 'TCGACG', 'ACTTAC', 'AATGGA', 'TAGGTA', 'AGGGGA', 'CGGGAA', 'CTCCTC', 'GATTGT', 'GAACTC', 'TACCCA', 'ACGCAA', 'GCGACA', 'CCCCGG', 'GCTGTG', 'AGTAAC', 'CACATC', 'GACACC', 'TAGTCG', 'GTGCGC', 'GATAAG', 'AGCCAC', 'TTATGG', 'GGGTTG', 'CCCATT', 'GCCAAT', 'AGGAAC', 'AAGCAC', 'AGGAAT', 'TACAGT', 'TTCATA', 'GAGGAT', 'CTCTAC', 'TAGAGG', 'CGTCGA', 'CATATT', 'GTTGGT', 'GTGCGT', 'AAGTTG', 'GAGCGC', 'CAATCG', 'AGTACA', 'GTGGCT', 'GCATAG', 'GTACTC', 'CGAACG', 'CGGCTC', 'AGAGAT', 'TACACC', 'AACCAT', 'GGCACC', 'CAAATA', 'CCGGTC', 'GGTAAC', 'AGTGCT', 'ATCACG', 'CTTCGA', 'ACGACG', 'AACGCG', 'TGCCTG', 'GAAGGG', 'GTAGAG', 'AGTATT', 'GTGCTC', 'ATCGGG', 'CACGCA', 'ACAATC', 'CGTGAT', 'GTGAGT', 'AATTAG', 'TAGTGG', 'ATCATT', 'GAGCCG', 'ATGCGT', 'CGTACC', 'CCCACC', 'TGATCA', 'TCATTG', 'CACGTT', 'TTATAT', 'CAATGA', 'CCCATA', 'CGCATC', 'TTGATC', 'AATGAT', 'AGGTGG', 'GAGGTG', 'TGTCGT', 'GGTGGG', 'TACGGA', 'CACCTC', 'GTCAAT', 'ATCCTC', 'GATTGC', 'AATTTT', 'AAGACG', 'CGTCAA', 'CCGTCA', 'AAACCT', 'CCATCT', 'GTTCAG', 'ACTCAT', 'AATCTT', 'AACGTA', 'ATGAAC', 'CCACTA', 'CCGCAG', 'GCAACC', 'GATGCG', 'AAAGTG', 'GAGAAC', 'TTGCGT', 'TGTCAC', 'ATTCAC', 'CATTCA', 'TTGGTA', 'CTTTGA', 'GATCAA', 'CCGCGT', 'TCAGTG', 'ACAGTT', 'GACGTA', 'ACTGCA', 'CCATAG', 'AAAAGG', 'TCAACC', 'ACTCAC', 'TTACCA', 'CGCCGG', 'AACGGA', 'AGTCAT', 'AAATTA', 'AGCACT', 'CGTCGT', 'ACAGTG', 'TAGTGT', 'TGGTAA', 'CTAAAC', 'GTGCGG', 'GTTCAC', 'AAAATT', 'GGTTGA', 'CCATAA', 'CCATTA', 'ATTCAT', 'GACGCG', 'CGGTTA', 'CAGTAA', 'CCTTTT', 'GTAAGT', 'TAACTC', 'TTCCAC', 'ATCTCT', 'TAATTA', 'AATACG', 'GAAGGT', 'AGTACC', 'GCCGTG', 'GGAATT', 'AAGGAG', 'CAACCC', 'GCGTTG', 'GGTATC', 'TTTCTA', 'CGCGCT', 'CGTACT', 'GCAGTG', 'TGACGG', 'GTTCAT', 'AGCATC', 'CAGTAG', 'CTTCAG', 'GAACAA', 'CTAATT', 'ACCTTC', 'TCCATT', 'GTTTAG', 'AACGTG', 'CAAATT', 'AATTTG', 'ACACTA', 'GAAATG', 'TTTCCT', 'AACAAT', 'CTGAAT', 'CTGCTT', 'TGTGGC', 'TGTCGC', 'AGATGG', 'GCCATA', 'GTGGAT', 'GAGTAC', 'CAGGTT', 'CACTGA', 'ACATTG', 'CTGCGG', 'ACATTA', 'CCGCAT', 'CCCGGG', 'AAGGTC', 'ACGTTA', 'GTTGTC', 'ATGGTA', 'TCGCGT', 'CCTTAC', 'ACAGAA', 'CCCGCG', 'GTATTT', 'TATGGC', 'TTTACT', 'CCCACG', 'ACAGCC', 'CCGGCG', 'GTGACA', 'AATGTC', 'CGGTTG', 'CTATGG', 'TAACCG', 'ATCGAG', 'CAACAC', 'GAGTAT', 'TCAACT', 'TATTTG', 'CCAACA', 'AAGGCG', 'TTCTCC', 'ATAAGG', 'ATGTCG', 'ATTCAG', 'CTACTG', 'AGCCAT', 'ATCCAC', 'TGGGTA', 'GGTGCC', 'AAGAAC', 'CACTGC', 'CGAATA', 'CGTGAG', 'AAGCAG', 'CTCGAT', 'ATGCAG', 'ATTGAA', 'CGCCTT', 'TTACTG', 'TTAAAC', 'GTTTAA', 'CCCATC', 'CGACCT', 'AGTAAA', 'TGCGCA', 'GTTAAC', 'TGAATG', 'GGGATC', 'CTCCTG', 'CGAAAC', 'GCATTG', 'GATGCT', 'AGCGCG', 'GTAAGG', 'GATCCC', 'GCGCAC', 'GATACC', 'AACCTG', 'TACCAA', 'AAGTGA', 'CTGAAG', 'ACGCAC', 'CGTAAT', 'TGCAGT', 'TTCTCT', 'ATGAAT', 'GTCGTG', 'CGCGGG', 'GCAGTT', 'CGTGGC', 'GGTGTA', 'TGGTAT', 'GTGAAC', 'GACGTC', 'CACAGC', 'CAATCC', 'CTATGC', 'ATTACG', 'CTATAC', 'TAACAA', 'GGGGAA', 'ATGGCT', 'CCGATA', 'ATACCT', 'ACAAAT', 'CAATGT', 'GCACTA', 'ACTTTT', 'TTTTAA', 'CGCGTC', 'TGTTGG', 'ATTGTT', 'GCATCT', 'GCCACA', 'AAAAGT', 'ATGGTT', 'GTGTTG', 'GAGTTA', 'TCACTT', 'CGTGGG', 'GTTCTC', 'GACAAC', 'TCTCTC', 'AGGAAA', 'AACTGA', 'CTCACG', 'TAGTTG', 'GTATCA', 'TAAATC', 'GGCACT', 'ACGCGA', 'TATCTG', 'CAATGC', 'GTGGAA', 'TCCATA', 'CTTCGT', 'GGGCGC', 'GCAAAT', 'ACTGAG', 'TGCGTA', 'GGGTGT', 'ACGCAT', 'TAGCTG', 'TTCAAC', 'ATGAGT', 'AGAGAA', 'CACCTG', 'GTTGAA', 'CCATCC', 'CAACGA', 'TTCAAT', 'GTCTGA', 'CTACAT', 'ATTTGT', 'CAACCG', 'GGTACT', 'CACTGT', 'CAACTC', 'TAACGG', 'AATGAA', 'GCCACG', 'GTGAAT', 'AGTGCC', 'CAGATA', 'TACCCT', 'AGTACG', 'CGCGAC', 'GGATGG', 'TGGATA', 'TACGAC', 'GGTGCT', 'TTCTGT', 'GAGAGT', 'CGTCTT', 'TACCTG', 'AATTTA', 'TTTCAG', 'TTGTTC', 'TCAGTT', 'AAACCA', 'CGGTGC', 'TAGAAA', 'ATACTC', 'ACGTAG', 'GACCTT', 'ATACCA', 'GATTTA', 'CTGCGT', 'TGCGGT', 'AGGTCG', 'CATGAC', 'TATTCG', 'AACTGC', 'ACAGTA', 'GACCGA', 'TTTGCT', 'GAGAGA', 'TTGGTC', 'GGCTGT', 'TATCGG', 'CGGTTT', 'TACGCA', 'ACGCGT', 'TAATGT', 'GTTACC', 'TCAGAC', 'AGATTA', 'AGCAAA', 'CCGATG', 'CGGTGG', 'GGAGAA', 'TTAAAA', 'CCGTTA', 'TAGTCA', 'AGTTGA', 'CGTCTG', 'AGATGT', 'GCTGAG', 'AGTGGC', 'GACAAA', 'ACGGTT', 'TTTGTC', 'TGCGTC', 'TCTCCC', 'CAACGG', 'TCGGTC', 'CTTTTC', 'CCGCAC', 'CATCCA', 'AGGTGT', 'CGGATG', 'TATCAG', 'AGATGC', 'GATGGG', 'AAACCG', 'ATAATT', 'ACAATG', 'CAGCCT', 'CACGAC', 'CTGAAA', 'CAGACG', 'AATAAC', 'CAGGTA', 'GACCGG', 'ACGCGG', 'GTCGCG', 'AAGAGG', 'CCTCTT', 'GAGCAC', 'GGGAAT', 'TGCGGC', 'ACGATG', 'GCGTAA', 'GACAAT', 'GAGTTT', 'GCGCTC', 'ACCGAT', 'AAATAC', 'CATTTC', 'ACCGAG', 'CGGCGC', 'CAACGC', 'GTTATT', 'ATGTAG', 'TGATAC', 'TCGTTG', 'CACGGG', 'CCGTTG', 'GTGGCA', 'GGGCAG', 'TCCACG', 'ATCGGT', 'GCAGAT', 'GAAAAG', 'GTCGTA', 'ATTCCC', 'ACCGCA', 'TCTGTC', 'TGGTTT', 'TATCCT', 'GGGGAT', 'GGATTG', 'CCAGGT', 'TAAATT', 'GCGCCC', 'TGAAAC', 'AGGAGA', 'ATTTCG', 'GGTTTG', 'GGTGTT', 'CTACGT', 'AAGCTC', 'ATTTAA', 'GCGCCG', 'AGGGTA', 'CTCGGC', 'CTACAC', 'GGTGTC', 'TGTCAT', 'CGATTT', 'CAGGCG', 'GCCGAG', 'AACATC', 'AAAAGC', 'CAAACC', 'ACCTGT', 'ACTCTT', 'ACAACC', 'GCACCG', 'CCAGGG', 'TGACTA', 'ATCTGC', 'CATTGA', 'CGATTA', 'GACATC', 'GTCTGT', 'CTCCAC', 'TTCATT', 'GTTTCA', 'AGGTCA', 'GAGTTG', 'GATGTT', 'GACAGA', 'AAATCG', 'GACCAA', 'ATTAAC', 'TCCCGG', 'AACGTT', 'GCGCAT', 'GCCGCA', 'CTCCCC', 'GACGAG', 'GCGAAG', 'CTCATT', 'CCGCGC', 'GGTTGT', 'GAACTG', 'GTACTG', 'CAGGTG', 'CATTGT', 'TCAGCC', 'GCTTTT', 'CATCGT', 'ACATCT', 'ATGACC', 'GTTTCG', 'CTGATA', 'ACCTGG', 'ATGATT', 'TAACCA', 'TAACGT', 'ATGCGC', 'TAAACC', 'AATGAG', 'TCCGCA', 'ATTTAG', 'AGGATA', 'AGGTAT', 'CGGTCA', 'GAATAG', 'ACTCTC', 'AGAATG', 'CTATGA', 'AGGATG', 'TTAAAT', 'TACTGC', 'TTCCTG', 'TGGTCA', 'AGGCTG', 'GTGCCT', 'GCTGCA', 'AACGAC', 'CTGCCC', 'ACACCC', 'GTTAAT', 'CTTCGC', 'GACGCA', 'AGTTTA', 'ATGACA', 'CCACCG', 'TCGGCG', 'TCTGTA', 'CATCGG', 'TTTTAG', 'CTGCGC', 'TCCTGG', 'AAACTC', 'TGGTTG', 'GGATAC', 'CATTCT', 'CATCCG', 'TACTGT', 'TAATCT', 'GGTCAG', 'GCTTCA', 'GGCATC', 'TTCCTC', 'GCCGTA', 'GTATCT', 'AGGCAC', 'TAAACT', 'ACGCAG', 'CTCAGC', 'ATTGCT', 'CATCCT', 'CAGTAC', 'GATGGA', 'GGTTTA', 'CAGGAA', 'CGTGGA', 'TAATCG', 'TGACCT', 'AGATTG', 'AGCACC', 'GCGTTA', 'CTACTC', 'TTTCAT', 'ATATTA', 'CGAAAT', 'CGCTGC', 'CGCCTG', 'TAATAC', 'ACAGGT', 'GCGCGG', 'GTCATG', 'AGCGAG', 'ATCCCC', 'ATTTGC', 'AGCAAT', 'ATTGTC', 'TCAATG', 'TATCCG', 'ATCTTC', 'AGCGAA', 'CGAAGC', 'GCAGTA', 'TCGTCG', 'GTTGTT', 'GAAATT', 'CTTCTA', 'TATGAC', 'ACAGGG', 'AACCGG', 'CGCCGA', 'TAGAAG', 'CCATTG', 'CCAGGA', 'CGGATA', 'CCGGGA', 'TGACGA', 'GCATTA', 'TGAAGC', 'GCGCAG', 'CTCAGT', 'TACGGC', 'CGAAAA', 'CCCGTG', 'CGGCCT', 'GAAACA', 'TTTTCG', 'AACAAC', 'CCGGTT', 'CTCGCT', 'GTCCGG', 'TTGGCG', 'TAACGA', 'ACCTGA', 'CTCGGT', 'CTGGAT', 'TTACGC', 'GGCTGA', 'AATCAT', 'AACCGT', 'GTATTA', 'TGCCAC', 'GATGTC', 'TGGCAC', 'CAATGG', 'AAGCGC', 'GAGATT', 'GATGCC', 'CAGTTC', 'TGTGGT', 'AATGGT', 'AAGAGT', 'GAGCGG', 'GCGCGT', 'AATCAG', 'GGTCAT', 'GTGATA', 'GTCGTT', 'CAACCA', 'TGGATG', 'AATTTC', 'GCACCA', 'GTCTGC', 'AACACC', 'TAACTA', 'TATCCA', 'AGGCCG', 'TAGCTT', 'CCCACA', 'CTAATA', 'GCAGAC', 'CCCGTT', 'ATGAAA', 'GCGCTT', 'CCCTGG', 'TAATAT', 'GGATTT', 'GTATAG', 'GATAAT', 'GATTTC', 'TGGTTA', 'CATTCC', 'AGGCGC', 'TAATGC', 'ATAACT', 'GCTTCG', 'CGACTA', 'ACACCT', 'AAGCTG', 'ACCATT', 'ACAGAC', 'TCGTCA', 'TGACCG', 'TGCAGC', 'TGATTT', 'CTCGTC', 'GGAATG', 'TACAGA', 'TATTAG', 'TTCGCT', 'CCGGAT', 'TTGCTT', 'GAAGAT', 'CGCGCC', 'ACAGAG', 'GCCACT', 'CTATTC', 'GGAGAG', 'ACGCGC', 'CGTGAC', 'CGTTCA', 'TAGTTA', 'TCGCGG', 'AGATAC', 'ATTTTA', 'CTATGT', 'TTGATT', 'TCATTA', 'TCGCGC', 'CGTTTA', 'CTACTT', 'TGTTTC', 'CCCACT', 'CCGCTC', 'TAACGC', 'GTGGAG', 'AAGTAG', 'GTATCC', 'GAAGTG', 'ATTACT', 'GTTTGC', 'CGACGA', 'AAATCA', 'GCAGCG', 'CCGCGA', 'GAGGAA', 'TGACCA', 'GAAAGG', 'TGATCG', 'TCCATC', 'TATCGT', 'ATCCGG', 'AGTTTC', 'AGCAAC', 'CAATCT', 'AATCAA', 'CCGGAC', 'TTACTA', 'TAGTAA', 'CGGGTA', 'CATTAG', 'GCAAAC', 'TTACTC', 'ATTCTC', 'TCAGTA', 'AAGCAA', 'GACGGA', 'TACTGA', 'AGAAGC', 'TAATGA', 'CACGGT', 'AATTAT', 'TGAACG', 'ACACCG', 'CAGCTA', 'TGTGGG', 'GGCAAC', 'GCCGAT', 'TGCGGA', 'CTGATT', 'TCCACA', 'CCGCAA', 'ATCCAG', 'TTAATC', 'GAATAA', 'TACCAG', 'CGATCA', 'ATGGCA', 'TAAAAT', 'GAGAAT', 'TCCACT', 'CTGCAA', 'GACCAG', 'GTGTAG', 'CAACAT', 'AGTTAG', 'CGCCAA', 'CGTGAA', 'GTTGCT', 'GTAATT', 'TTTATT', 'TAAACG', 'GAAACG', 'CCCGTA', 'CAGCTT', 'GTCGGC', 'GGCGCG', 'GCAATG', 'TAACCT', 'ATATTT', 'TGTGGA', 'GCTTCT', 'GCGCCT', 'AGTAAT', 'GTTGCC', 'AAATCC', 'TTGCAG', 'AAATAT', 'CTCTCT', 'TGGTGC', 'GCCTGT', 'GCGCGA', 'GGGAGA', 'CAAAGC', 'ATCAAT', 'CTGGTT', 'TCAGGT', 'AACCAG', 'AGTGGA', 'TCATAG', 'TACCTT', 'CGCAGT', 'CTAAAT', 'ACCTGC', 'GTGCCA', 'GAAACT', 'TTCACG', 'CGCCGT', 'AGTTAT', 'TATTTC', 'CATCGA', 'TCGTAG', 'AAATAA', 'CTCTGT', 'CACTTC', 'AACGGG', 'GCCGAC', 'GTTATC', 'TCGTTA', 'AAAAGA', 'GATTTT', 'TTGCGG', 'TTATTC', 'GGGATA', 'GTTTGT', 'TTTCCC', 'ATTGAT', 'TCTCCT', 'CTGACC', 'ACCACA', 'ACCGTG', 'TAAAAG', 'CGAAGT', 'TACGGT', 'TACGGG', 'AGCGAT', 'ATTATC', 'TTATTT', 'GGAACG', 'ACGGTC', 'CTGGTA', 'TCTTTT', 'CGATCG', 'AATAAA', 'GAGATC', 'TGCCAT', 'CGGTGT', 'AAGGTA', 'ATGTTG', 'TACCCG', 'CTACGA', 'ATAATA', 'GTGACG', 'GATTAA', 'CCTGTG', 'CCTTTC', 'GAAACC', 'CCCTGT', 'GAAATC', 'TCTGCG', 'ACGATA', 'TGCGCT', 'AGGTTA', 'GCAGGT', 'CTAACC', 'CGTTTG', 'GACGAA', 'TCCGTC', 'CAAACG', 'CTGGTC', 'CAACGT', 'GTAACT', 'ACCGTA', 'AGAGAG', 'CGTTTC', 'AATTAC', 'CCAGGC', 'AAAATC', 'GATAAC', 'GTTTCC', 'ATCGGC', 'ATCGCT', 'AATTAA', 'GCGCAA', 'GTCATA', 'GCTTTG', 'GACAGG', 'CCTGTC', 'TGGCAG', 'CTGCCA', 'ATGCTC', 'AGCGCA', 'CATTTT', 'AATACC', 'AGCGGA', 'GACCGT', 'ACTGTC', 'AATCTC', 'GGTTTC', 'TTTTTT', 'ACAAAA', 'GCCACC', 'ACGTTG', 'GCATCC', 'ACTGCG', 'TGGTCG', 'AAAATG', 'GATGGC', 'TTTCTT', 'GTGGTT', 'GGTGGC', 'GTGGTA', 'TGTTAA', 'CGTCAC', 'ACGGCG', 'CAAAAG', 'ATTACC', 'CTACGG', 'TATCAC', 'GGGAAA', 'CGTTCC', 'GGTTAC', 'AGAACG', 'AAAAAA', 'TCTGCA', 'GAAATA', 'GACAGC', 'TTTATC', 'CGTCAG', 'CTTTTA', 'TTTTGT', 'TTAATT', 'CTCTGC', 'GCAACT', 'GGGGAG', 'GGATCA', 'GATAAA', 'GTATTC', 'GGATGC', 'TGCAGA', 'AGCGGT', 'TTCGTC', 'CTTTTG', 'GATTAC', 'AAGAAA', 'CATTGC', 'GATCTC', 'GCATCG', 'CACCAA', 'GTCACG', 'GGTTAG', 'ACCACG', 'ATCTGG', 'CGACCA', 'CAACCT', 'AGCTGG', 'ACAGGC', 'GCCTGG', 'TCGATG', 'GCCGTT', 'GGTGGA', 'CGCAGA', 'AGATGA', 'ATTAAT', 'GCTGCG', 'CGTTGC', 'GATATC', 'CGGCTT', 'AAGATA', 'TATCTT', 'CGCAGC', 'ACTTCG', 'TGATCC', 'AGTGAG', 'GCAACG', 'TCGCTC', 'AGGTTG', 'CTAATG', 'TCAACG', 'CCAGTC', 'TATCTA', 'TATCCC', 'TCCGCT', 'TAGAGA', 'TTGCGC', 'GTAACC', 'GCGTAG', 'ACAATA', 'TAAAGC', 'TCGCGA', 'AGTGAT', 'GTAACA', 'AACCAC', 'TAATCA', 'GCCGTC', 'CTACTA', 'CGCCGC', 'ACTTTA', 'GGTAAA', 'AGTGGT', 'TGGCCT', 'AGCGTA', 'TATTGT', 'TGGCAT', 'AACGGT', 'CACAGG', 'AGGCAT', 'CGTCAT', 'GCCGGT', 'AGCGAC', 'GAATAC', 'CACGCT', 'ACAAAC', 'AATCCC', 'ATGACG', 'GAGTAA', 'GAGCAT', 'ACAGGA', 'TTTACC', 'TCACCT', 'GACAGT', 'ATCAGA', 'CGTTCT', 'CCAGAT', 'TCTGAT', 'TCATCT', 'GGAAAC', 'CCGCCC', 'CTAAAA', 'TCAGGC', 'AGTTAC', 'GCGGCG', 'GGGATT', 'ACATAG', 'ATTTCA', 'GACTGG', 'AGTGGG', 'CGTGGT', 'GGTATT', 'ACAACT', 'TCCACC', 'GACCAC', 'AGCGTT', 'AATGCC', 'AACGGC', 'GCTGTC', 'CGAACA', 'TCACTA', 'CGGAAG', 'GTGGTC', 'CGTTGA', 'AGCGTG', 'CATCTC', 'CAAAGG', 'CGCTGT', 'ATCACT', 'ATATCT', 'AAGGTG', 'ATGGTC', 'GGATCT', 'AAGCTA', 'GTGAAA', 'CGATGC', 'CGAAGG', 'AACGCT', 'TTTCAC', 'CTTTGC', 'GTTTTA', 'TTGTCG', 'TACCAC', 'TTCTGC', 'CTACGC', 'TTAACT', 'TCTGAA', 'AGTTGC', 'ACCATC', 'CTTCCC', 'GTAATC', 'GTCGCT', 'AGTTAA', 'GCAGAA', 'GGATTA', 'GAGTAG', 'ATTGAG', 'TGTTAC', 'AAGCCG', 'GCGATA', 'TAATAG', 'GGCATT', 'AGGCCA', 'GCATCA', 'AAGCCA', 'CCAGCT', 'ACACCA', 'GGTTTT', 'GGGATG', 'CCTTCG', 'CTTCCG', 'TAAAAC', 'AGGTGA', 'GCAAAG', 'GATATT', 'CATCCC', 'ACCGCT', 'AATAAT', 'AAAACC', 'AATGGC', 'ACCGGC', 'TTTGCC', 'AGTTCT', 'CTCACT', 'ACAGCG', 'TGATTG', 'CATCTT', 'GGATCG', 'GTCACT', 'TCAATA', 'ATGCCT', 'ACGGCA', 'AGAATA', 'GACCAT', 'ATGCCA', 'GCAAAA', 'AGAAGG', 'CCTTTG', 'TTCAGA', 'GCTTTC', 'GCCTGA', 'CTCTCC', 'AATATC', 'TTTTGC', 'GGTAAT', 'CAGCCC', 'GCTTTA', 'CGACAA', 'TATTAT', 'CTGCCG', 'TGAAAT', 'GTGATT', 'GATGGT', 'TCAGCG', 'GCCATC', 'TATCGC', 'GGCGTC', 'CTTCTC', 'GTACCG', 'AGTTGT', 'TGATTA', 'CGTTGT', 'AAAACT', 'TCGACA', 'TAAAGT', 'TGCCGC', 'CAAAGT', 'CGCTGA', 'AGTTTT', 'TGTCGA', 'CTGACG', 'GACGAC', 'CGAACT', 'GCCTGC', 'CTATAT', 'CCTTCT', 'ACATCG', 'GGGCTG', 'ACCGTT', 'GGGCGG', 'TGTTCG', 'AGATCG', 'TAGTGA', 'AATGAC', 'CTATAA', 'ATAATG', 'GCTTCC', 'GGCAAA', 'CATTAT', 'ACTTTC', 'GTCGGG', 'TCTCTA', 'CAGCAT', 'CCAGTG', 'GCAGGC', 'ACTTCT', 'TAATCC', 'TTGGTG', 'TAGATA', 'TGTTAT', 'GAAAGC', 'GCAGAG', 'AGAAAC', 'ACAACG', 'CAATCA', 'CATCGC', 'ATGCTG', 'GACGGC', 'CCGTAG', 'TTAATA', 'GCGCTG', 'TGCCGT', 'GTTTAC', 'GCAATA', 'TCTGTT', 'TTTTTG', 'CTCAAT', 'TGATGC', 'GAGCGA', 'CTCTTT', 'AGATCC', 'AAGATG', 'CGATGG', 'TGAAAA', 'TGGCTT', 'ACCGAC', 'CGGCAG', 'GTCGTC', 'CTCCAG', 'ATTATT', 'GTCATT', 'AATCAC', 'GCGGCA', 'TGCGGG', 'GAAGAA', 'TATTGC', 'GTTGAG', 'CCAGAG', 'GTTTCT', 'CAAAAC', 'AGATAT', 'TGATAT', 'ACCACT', 'AGAACT', 'TTAACA', 'ATATAG', 'TTTTCA', 'GCCGCT', 'CGGTAC', 'CAAAAA', 'GCTGTA', 'AGTGAA', 'AATATT', 'GACGCC', 'TCCTGT', 'CACCTT', 'TACAGC', 'GGGCAT', 'CCTTCA', 'CTGGAG', 'AGCCAG', 'AAAACG', 'TATCTC', 'AGGCGG', 'TATTAA', 'TCCGGA', 'AAAGAG', 'TTATAG', 'TTAACC', 'TACGCT', 'CGATGT', 'CAATAG', 'ATACCC', 'ACTGTT', 'TATTGA', 'TCCGCC', 'CTATTA', 'TTCTTC', 'GCGGTG', 'ATAACA', 'CCGCTG', 'CCCGAC', 'TAGCTC', 'AGGCTT', 'GATTAT', 'TATTCT', 'CTCAAC', 'ATAATC', 'TGAAGT', 'AGCGGC', 'GTTTTT', 'TAGCCG', 'AACAGA', 'CGATCT', 'GGATGT', 'AAAAAC', 'GGAACT', 'CAGCGG', 'GAAAGT', 'GTCGAG', 'GAGCTA', 'GGCGGA', 'AACAGT', 'CGGCAC', 'TCAGGG', 'GCCATT', 'CGATCC', 'CTCCGG', 'CGGTAT', 'GCGATG', 'CAAAGA', 'ACGCTT', 'CCATCG', 'TGAAGG', 'AGTTCC', 'AGTTCG', 'CTACAA', 'AAGCCT', 'TTCTGG', 'ATACCG', 'GGCGCA', 'TCACCC', 'GAGAAG', 'CCCTGC', 'CTGGCT', 'TTCACT', 'ATATCA', 'TGAATA', 'GTAAAC', 'TCTTTG', 'AAGCGT', 'CTGCTC', 'CACTGG', 'TGAACT', 'TGGTGT', 'GAGATA', 'CTCGAC', 'AGAAGT', 'ACTGCC', 'AAAACA', 'GAGATG', 'CGTTTT', 'CTGCTG', 'AAGCGG', 'CAGCCA', 'CCGGCA', 'CCAGAA', 'CTAACT', 'ATCGTC', 'AAAATA', 'GACGAT', 'GGGTAT', 'TATTCA', 'CTTCCA', 'GACGGG', 'GTGGCG', 'GGTTAA', 'TCTTTC', 'CTCTGG', 'TGATGG', 'GTTTTG', 'CACGCC', 'AGTGAC', 'CAGCGA', 'GCTGCT', 'TGCGCC', 'ACAAAG', 'GTAAAT', 'AGAAAT', 'GCTGCC', 'CCCGCA', 'ACATCC', 'CTTTCG', 'GGATGA', 'CACCGC', 'TATTTA', 'TTGTAG', 'ACTTTG', 'CTACCA', 'GGCGAG', 'TATTTT', 'GTCGGT', 'GTTGAT', 'ATCAAC', 'GGAAGC', 'CCCTGA', 'GAAAAC', 'TGGCTG', 'CCGCCT', 'GAGCTG', 'TTAAAG', 'GGCAGT', 'ATGCCC', 'CGAAAG', 'AGGTAA', 'CTGATG', 'CAGCAG', 'ATGAAG', 'CTATTG', 'TGCCGG', 'AACGTC', 'GCAGGG', 'CATCAG', 'TTCCGG', 'GAGCAG', 'CCGGAA', 'TGTTTT', 'TAAATA', 'TGCTGC', 'GTGCCG', 'ATTTTG', 'CAGCGC', 'CGGTGA', 'AAATAG', 'TCATCC', 'CGCCAC', 'GGCGTG', 'TGGCGC', 'GATGAT', 'CTATCA', 'ATTTAC', 'GGCAGC', 'TCACCG', 'ATGGCG', 'GGGTGA', 'ACGGTG', 'TCGGTG', 'CCATCA', 'TAAAGG', 'ATTTCT', 'GTAAAA', 'CTTCAA', 'GGCGTA', 'GGGAAG', 'CGGCTA', 'GATGAG', 'ACTGCT', 'TTACCT', 'AGTTCA', 'CCGCTT', 'GGCAAT', 'TAGCAA', 'AGCAGT', 'CCGGAG', 'GTTTTC', 'AGGCAA', 'CAATAC', 'TGTTAG', 'GTCACC', 'CACCGT', 'ATAAAA', 'CACCGA', 'GGGCTT', 'GACGTT', 'CTTTCC', 'ACTTCA', 'AAGAGA', 'CTCGCC', 'ATATTC', 'GAAAGA', 'TACGCC', 'CTATTT', 'ATTGCC', 'CTTTAA', 'TTGAAG', 'TGGTGG', 'GACGGT', 'TCGCTG', 'GAATAT', 'TAAAAA', 'TAATAA', 'TCGCTT', 'GAGCGT', 'TAACCC', 'TACAGG', 'CAAAAT', 'CTAACA', 'GCGCCA', 'TGTTTG', 'ACCGGT', 'TGGTAG', 'TTTTAC', 'CCCGCC', 'TCACCA', 'TATCAA', 'CCAGCC', 'ATAACC', 'AAGCCC', 'ATCATC', 'CAACAA', 'TGAACA', 'CCTTTA', 'AGCGGG', 'TGATAG', 'CGTTAG', 'CCCGTC', 'TTTTTA', 'CTCATC', 'GCAGCA', 'ACAGCA', 'GCAACA', 'GGCGAC', 'GTTTAT', 'TTGCCT', 'TTCCAG', 'TTGTTG', 'CTGGAA', 'ACTGAT', 'CCACCA', 'TGGAAG', 'AAGCGA', 'TTATTA', 'AGCAGC', 'TTTCTC', 'GGGTTA', 'TGTTCA', 'CAAACA', 'GAAAAT', 'GCAGGA', 'TGCCGA', 'CTAACG', 'CGCCAT', 'CTAAAG', 'TCTCTT', 'CAGCTC', 'CTTTGT', 'ATTTTC', 'TTCATC', 'TTATCA', 'AAAAAT', 'TGATAA', 'GTATCG', 'CCTGTA', 'ATCAGT', 'CGGCGG', 'TACCGC', 'CCCGCT', 'TAGCGC', 'TACTGG', 'CCGCCG', 'CTATAG', 'TCGGCA', 'TTTTAT', 'AGAACA', 'TCTGGG', 'TTGATA', 'GTCATC', 'ATTTTT', 'TGCTGT', 'ATTTCC', 'GGAAAT', 'TGTTGA', 'GCGCTA', 'GGAAAG', 'CTTCCT', 'GATGAA', 'TGTTGC', 'ATCGAC', 'CTACCT', 'GATGAC', 'ACGCCT', 'ATAAAC', 'TATTCC', 'CTATCC', 'TTCGCC', 'CTTCAT', 'GTATTG', 'AGTTTG', 'GGCGGG', 'GGTGAG', 'GGTTAT', 'ACCGTC', 'GGTGAC', 'TGCCAG', 'GAGAAA', 'TATTAC', 'TGTTCT', 'ATAAAT', 'TACCGA', 'CCAGTA', 'TGGTGA', 'ACATCA', 'GCGGTA', 'GGCGAA', 'GGATAG', 'ACGCTC', 'CCTGAG', 'GTCGCC', 'TATCGA', 'CGAAGA', 'TCCTGC', 'ATTTAT', 'CGGCAT', 'ATGCCG', 'CATTAA', 'TCATCG', 'TAGTAG', 'AGCAGA', 'CTCACC', 'CGATAC', 'AACAGC', 'AGCGTC', 'CCCGGT', 'TCAACA', 'TGTTTA', 'GGCTGG', 'CGATGA', 'TTATTG', 'TCTGCT', 'CACCGG', 'TCAGGA', 'TTAATG', 'TTGCTA', 'GTGCTG', 'GACGCT', 'CCCAGA', 'CTGGCA', 'TGATGT', 'TTCACC', 'TCCTGA', 'GCCGCC', 'TTTTCT', 'CAATAA', 'GGTGGT', 'ACCACC', 'GGCGGT', 'AGAAAA', 'AGGCGT', 'TCGATA', 'CAAACT', 'ACCGGG', 'CCGGTG', 'AACGCC', 'TGAAAG', 'GCTGTT', 'CAGCAC', 'GTCGAT', 'GGCGGC', 'CTTTCA', 'CTTCAC', 'TCTTCG', 'AGGAAG', 'ATATTG', 'ACTGAA', 'GGCGTT', 'CATCAT', 'GGAATA', 'CTTTAG', 'TCGGTA', 'TGCTGA', 'ACCGCC', 'GGCAGG', 'ACGGTA', 'CGCAGG', 'CTTTTT', 'TAAACA', 'AAAAAG', 'CAATAT', 'TTCAGT', 'TTAACG', 'GTAATG', 'GGCGCT', 'GTAATA', 'CATTAC', 'GAAAAA', 'TTTTTC', 'ATGATG', 'CTCAGG', 'CGTTAC', 'ACAACA', 'CCTGCC', 'CCTGCG', 'GGAAAA', 'CTACCC', 'TCTGCC', 'CGTTAA', 'CACCAT', 'TCAGCA', 'GTAACG', 'GGCAGA', 'GTGAAG', 'TTTTCC', 'CCAGTT', 'CCTTCC', 'GAGCAA', 'AACTGG', 'GGTGAA', 'CAGCGT', 'TAAAGA', 'CTTTCT', 'ATATCC', 'AGCGCC', 'GGATAT', 'AGGCTA', 'GGGTAG', 'TGTTGT', 'ATGGTG', 'ACCAGG', 'GGGCTA', 'CGGCGT', 'ACGCCG', 'CGTTAT', 'TCATCA', 'TACCGT', 'ACGCTG', 'AAGAAG', 'TCCAGG', 'TGATGA', 'GGAACA', 'TCTTCA', 'TAGCCT', 'TCTGAC', 'GGGCGT', 'GGAAGT', 'TCCGGT', 'TGAAGA', 'AGAAGA', 'CCTGGA', 'GTCAGA', 'CCCAGT', 'GGTGAT', 'AGGTAG', 'CTCTTC', 'GGAAGG', 'TTGCTC', 'CCGGTA', 'TCGCCG', 'TTGCCA', 'AACAGG', 'CCTGGT', 'GCCGGG', 'GAAGAG', 'TTGCTG', 'TGGCAA', 'ACTTCC', 'ATAACG', 'TGTTCC', 'CTTCTT', 'ACTGGG', 'ACGCCC', 'CCTGCA', 'TTATCT', 'ATCACC', 'ACCGGA', 'TAGCGG', 'AGAAAG', 'AGATAA', 'CATCAC', 'CCCGGC', 'TCTTTA', 'CACCAG', 'CGGCGA', 'GGATAA', 'CGATAT', 'CCTGTT', 'CATCAA', 'GGGTAA', 'ACGCTA', 'TACCGG', 'GTAAAG', 'TTGATG', 'CGGTAA', 'CTGGTG', 'AGATAG', 'TTACCC', 'TGCAGG', 'TAGCGT', 'TAGCCC', 'ATATCG', 'GTGATG', 'TTACCG', 'GGCGAT', 'CAGCAA', 'AGGCGA', 'TGGCTA', 'TCTTCT', 'TGGCGT', 'ATCAGC', 'TAGCTA', 'ACGCCA', 'GGGCAA', 'ATCGCC', 'CCTGGG', 'TAGCCA', 'CCGCTA', 'GCTGAA', 'TCGCCT', 'GCTGAT', 'CGCCAG', 'CTATCT', 'CCCAGG', 'TTGCCC', 'ACTGGT', 'TTATCC', 'CTGGCG', 'TTCAGC', 'GTCTGG', 'CGGTAG', 'ACCAGT', 'CTTTAC', 'CTTTAT', 'CCAGAC', 'CTATCG', 'TGGCGG', 'CCGCCA', 'CGCTGG', 'CTACCG', 'TTATCG', 'GCCAGG', 'GTCAGT', 'TGCTGG', 'CCAGCG', 'ATAAAG', 'ACCAGA', 'CCTGGC', 'CGATAA', 'CCTGCT', 'CGGCAA', 'CCCGGA', 'TCTGGT', 'TTGCCG', 'GCTGGG', 'CGATAG', 'CCAGCA', 'TCCGGG', 'ATCAGG', 'CACCAC', 'GGGCGA', 'AGCAGG', 'GTGGTG', 'CCTGAT', 'TCGCCC', 'CCCAGC', 'GTCAGC', 'CCTGAA', 'GCCGGA', 'TTCAGG', 'ACCAGC', 'TCCGGC', 'GCTGAC', 'TCTGGA', 'GCTGGT', 'TCCAGA', 'TCTTCC', 'TAGCGA', 'ACTGAC', 'TCGCTA', 'GGAAGA', 'TCTGGC', 'GCCAGA', 'TGGCGA', 'ACTGGA', 'TCCAGT', 'TCGCCA', 'GTCAGG', 'CCTGAC', 'GCCAGC', 'GCTGGC', 'GCCAGT', 'ACTGGC', 'GCTGGA', 'TCCAGC']\n"
     ]
    }
   ],
   "source": [
    "ratio_sorted_6uplets=sorted([u for u in uplet_occurencies.keys() if len(u)==6],\n",
    "                            key=lambda u: uplet_ratios[u])\n",
    "print(ratio_sorted_6uplets)"
   ]
  },
  {
   "cell_type": "code",
   "execution_count": 28,
   "metadata": {},
   "outputs": [
    {
     "data": {
      "image/png": "[encoded data removed]",
      "text/plain": [
       "<Figure size 640x480 with 1 Axes>"
      ]
     },
     "metadata": {},
     "output_type": "display_data"
    }
   ],
   "source": [
    "#plt.hist([uplet_ratios[u] for u in ratio_sorted_6uplets],bins=100,density=True,alpha=0.5);\n",
    "\n",
    "# palindromes\n",
    "palindromes = [u for u in ratio_sorted_6uplets if Seq(u).reverse_complement() == Seq(u)]\n",
    "plt.hist([uplet_ratios[p] for p in palindromes],bins=20,density=True,alpha=0.5,label='palindromes');\n",
    "\n",
    "# casi-palindromes\n",
    "casi_palindromes = [u for u in ratio_sorted_6uplets if np.sum(np.array(Seq(u).reverse_complement()) != np.array(Seq(u))) ==2]\n",
    "plt.hist([uplet_ratios[p] for p in casi_palindromes],bins=20,density=True,alpha=0.5,label='casi-palindromes');\n",
    "\n",
    "# non-palindromes \n",
    "non_palindromes = [u for u in ratio_sorted_6uplets if u not in palindromes]\n",
    "plt.hist([uplet_ratios[p] for p in non_palindromes],bins=20,density=True,alpha=0.5,label='non-palindromes')\n",
    "\n",
    "# non-casi-palindromes \n",
    "non_xdromes = [u for u in ratio_sorted_6uplets if u not in palindromes and u not in casi_palindromes]\n",
    "plt.hist([uplet_ratios[p] for p in non_xdromes],bins=20,density=True,alpha=0.5,label='non-xdromes');\n",
    "\n",
    "plt.legend(loc=1)\n",
    "\n",
    "plt.xlabel('ratio measured/expected')\n",
    "plt.ylabel('density');"
   ]
  },
  {
   "cell_type": "code",
   "execution_count": null,
   "metadata": {},
   "outputs": [],
   "source": []
  }
 ],
 "metadata": {
  "kernelspec": {
   "display_name": "Python 3",
   "language": "python",
   "name": "python3"
  },
  "language_info": {
   "codemirror_mode": {
    "name": "ipython",
    "version": 3
   },
   "file_extension": ".py",
   "mimetype": "text/x-python",
   "name": "python",
   "nbconvert_exporter": "python",
   "pygments_lexer": "ipython3",
   "version": "3.8.20"
  }
 },
 "nbformat": 4,
 "nbformat_minor": 2
}
